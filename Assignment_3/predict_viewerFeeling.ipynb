{
 "cells": [
  {
   "cell_type": "code",
   "execution_count": 32,
   "metadata": {},
   "outputs": [],
   "source": [
    "from mpl_toolkits.mplot3d import Axes3D\n",
    "from sklearn.preprocessing import StandardScaler\n",
    "from sklearn.preprocessing import LabelEncoder\n",
    "import seaborn as sns\n",
    "import matplotlib.pyplot as plt # plotting\n",
    "import numpy as np # linear algebra\n",
    "import os # accessing directory structure\n",
    "import pandas as pd # data processing, CSV file I/O (e.g. pd.read_csv)\n",
    "import matplotlib.pyplot as plt"
   ]
  },
  {
   "cell_type": "markdown",
   "metadata": {},
   "source": [
    "1. IMPORT DATASET"
   ]
  },
  {
   "cell_type": "code",
   "execution_count": 33,
   "metadata": {},
   "outputs": [
    {
     "data": {
      "text/html": [
       "<div>\n",
       "<style scoped>\n",
       "    .dataframe tbody tr th:only-of-type {\n",
       "        vertical-align: middle;\n",
       "    }\n",
       "\n",
       "    .dataframe tbody tr th {\n",
       "        vertical-align: top;\n",
       "    }\n",
       "\n",
       "    .dataframe thead th {\n",
       "        text-align: right;\n",
       "    }\n",
       "</style>\n",
       "<table border=\"1\" class=\"dataframe\">\n",
       "  <thead>\n",
       "    <tr style=\"text-align: right;\">\n",
       "      <th></th>\n",
       "      <th>e</th>\n",
       "      <th>no. video</th>\n",
       "      <th>Student ID</th>\n",
       "      <th>Full name</th>\n",
       "      <th>id</th>\n",
       "      <th>standardized dish</th>\n",
       "      <th>dish occurence (based on transcript)</th>\n",
       "      <th>dish imply</th>\n",
       "      <th>start time</th>\n",
       "      <th>end time</th>\n",
       "      <th>...</th>\n",
       "      <th>sauce (based on transcript)</th>\n",
       "      <th>venue</th>\n",
       "      <th>container</th>\n",
       "      <th>describe how to make it</th>\n",
       "      <th>viewer feeling of youtuber's style</th>\n",
       "      <th>viewer feeling of presented food</th>\n",
       "      <th>YouTuber feeling</th>\n",
       "      <th>location</th>\n",
       "      <th>foreigner</th>\n",
       "      <th>Unnamed: 24</th>\n",
       "    </tr>\n",
       "  </thead>\n",
       "  <tbody>\n",
       "    <tr>\n",
       "      <th>0</th>\n",
       "      <td>1.0</td>\n",
       "      <td>51.0</td>\n",
       "      <td>NaN</td>\n",
       "      <td>NaN</td>\n",
       "      <td>5OzrpNCyXqs</td>\n",
       "      <td>snail vermicelli soup</td>\n",
       "      <td>bun oc</td>\n",
       "      <td>NaN</td>\n",
       "      <td>1:05</td>\n",
       "      <td>3:21</td>\n",
       "      <td>...</td>\n",
       "      <td>NaN</td>\n",
       "      <td>street restaurant</td>\n",
       "      <td>bowl</td>\n",
       "      <td>1.0</td>\n",
       "      <td>4.0</td>\n",
       "      <td>NaN</td>\n",
       "      <td>5.0</td>\n",
       "      <td>HN</td>\n",
       "      <td>1.0</td>\n",
       "      <td>NaN</td>\n",
       "    </tr>\n",
       "    <tr>\n",
       "      <th>1</th>\n",
       "      <td>2.0</td>\n",
       "      <td>51.0</td>\n",
       "      <td>NaN</td>\n",
       "      <td>NaN</td>\n",
       "      <td>5OzrpNCyXqs</td>\n",
       "      <td>vermicelli with fried tofu and shrimp paste</td>\n",
       "      <td>bun dau mam tom</td>\n",
       "      <td>NaN</td>\n",
       "      <td>3:32</td>\n",
       "      <td>6:10</td>\n",
       "      <td>...</td>\n",
       "      <td>fish sauce, fermented shrimp paste, pepper, ch...</td>\n",
       "      <td>street restaurant</td>\n",
       "      <td>tray</td>\n",
       "      <td>1.0</td>\n",
       "      <td>4.0</td>\n",
       "      <td>NaN</td>\n",
       "      <td>4.0</td>\n",
       "      <td>HN</td>\n",
       "      <td>1.0</td>\n",
       "      <td>NaN</td>\n",
       "    </tr>\n",
       "    <tr>\n",
       "      <th>2</th>\n",
       "      <td>3.0</td>\n",
       "      <td>51.0</td>\n",
       "      <td>NaN</td>\n",
       "      <td>NaN</td>\n",
       "      <td>5OzrpNCyXqs</td>\n",
       "      <td>fried spring roll</td>\n",
       "      <td>spring roll</td>\n",
       "      <td>NaN</td>\n",
       "      <td>5:23</td>\n",
       "      <td>6:10</td>\n",
       "      <td>...</td>\n",
       "      <td>fish sauce, sweet spicy garlic sauce</td>\n",
       "      <td>street restaurant</td>\n",
       "      <td>plate</td>\n",
       "      <td>0.0</td>\n",
       "      <td>5.0</td>\n",
       "      <td>NaN</td>\n",
       "      <td>5.0</td>\n",
       "      <td>HN</td>\n",
       "      <td>1.0</td>\n",
       "      <td>NaN</td>\n",
       "    </tr>\n",
       "    <tr>\n",
       "      <th>3</th>\n",
       "      <td>4.0</td>\n",
       "      <td>51.0</td>\n",
       "      <td>NaN</td>\n",
       "      <td>NaN</td>\n",
       "      <td>5OzrpNCyXqs</td>\n",
       "      <td>steamed rolled rice pancake</td>\n",
       "      <td>banh cuon</td>\n",
       "      <td>NaN</td>\n",
       "      <td>6:22</td>\n",
       "      <td>9:23</td>\n",
       "      <td>...</td>\n",
       "      <td>garlic water, fried caramelized scallion, pepp...</td>\n",
       "      <td>street restaurant</td>\n",
       "      <td>plate</td>\n",
       "      <td>1.0</td>\n",
       "      <td>5.0</td>\n",
       "      <td>NaN</td>\n",
       "      <td>5.0</td>\n",
       "      <td>HN</td>\n",
       "      <td>1.0</td>\n",
       "      <td>NaN</td>\n",
       "    </tr>\n",
       "    <tr>\n",
       "      <th>4</th>\n",
       "      <td>5.0</td>\n",
       "      <td>51.0</td>\n",
       "      <td>NaN</td>\n",
       "      <td>NaN</td>\n",
       "      <td>5OzrpNCyXqs</td>\n",
       "      <td>shrimp cake</td>\n",
       "      <td>shrimp cake</td>\n",
       "      <td>NaN</td>\n",
       "      <td>9:42</td>\n",
       "      <td>11:55</td>\n",
       "      <td>...</td>\n",
       "      <td>chili, sweet spicy sauce</td>\n",
       "      <td>street restaurant</td>\n",
       "      <td>plate</td>\n",
       "      <td>1.0</td>\n",
       "      <td>4.0</td>\n",
       "      <td>NaN</td>\n",
       "      <td>5.0</td>\n",
       "      <td>HN</td>\n",
       "      <td>1.0</td>\n",
       "      <td>NaN</td>\n",
       "    </tr>\n",
       "  </tbody>\n",
       "</table>\n",
       "<p>5 rows × 25 columns</p>\n",
       "</div>"
      ],
      "text/plain": [
       "     e  no. video Student ID Full name           id  \\\n",
       "0  1.0       51.0        NaN       NaN  5OzrpNCyXqs   \n",
       "1  2.0       51.0        NaN       NaN  5OzrpNCyXqs   \n",
       "2  3.0       51.0        NaN       NaN  5OzrpNCyXqs   \n",
       "3  4.0       51.0        NaN       NaN  5OzrpNCyXqs   \n",
       "4  5.0       51.0        NaN       NaN  5OzrpNCyXqs   \n",
       "\n",
       "                             standardized dish  \\\n",
       "0                        snail vermicelli soup   \n",
       "1  vermicelli with fried tofu and shrimp paste   \n",
       "2                            fried spring roll   \n",
       "3                  steamed rolled rice pancake   \n",
       "4                                  shrimp cake   \n",
       "\n",
       "        dish occurence (based on transcript) dish imply start time end time  \\\n",
       "0                                     bun oc        NaN       1:05     3:21   \n",
       "1                            bun dau mam tom        NaN       3:32     6:10   \n",
       "2                                spring roll        NaN       5:23     6:10   \n",
       "3                                  banh cuon        NaN       6:22     9:23   \n",
       "4                                shrimp cake        NaN       9:42    11:55   \n",
       "\n",
       "   ...                        sauce (based on transcript)              venue  \\\n",
       "0  ...                                                NaN  street restaurant   \n",
       "1  ...  fish sauce, fermented shrimp paste, pepper, ch...  street restaurant   \n",
       "2  ...               fish sauce, sweet spicy garlic sauce  street restaurant   \n",
       "3  ...  garlic water, fried caramelized scallion, pepp...  street restaurant   \n",
       "4  ...                           chili, sweet spicy sauce  street restaurant   \n",
       "\n",
       "  container describe how to make it viewer feeling of youtuber's style   \\\n",
       "0      bowl                     1.0                                 4.0   \n",
       "1      tray                     1.0                                 4.0   \n",
       "2     plate                     0.0                                 5.0   \n",
       "3     plate                     1.0                                 5.0   \n",
       "4     plate                     1.0                                 4.0   \n",
       "\n",
       "  viewer feeling of presented food YouTuber feeling location foreigner  \\\n",
       "0                              NaN              5.0       HN       1.0   \n",
       "1                              NaN              4.0       HN       1.0   \n",
       "2                              NaN              5.0       HN       1.0   \n",
       "3                              NaN              5.0       HN       1.0   \n",
       "4                              NaN              5.0       HN       1.0   \n",
       "\n",
       "  Unnamed: 24  \n",
       "0         NaN  \n",
       "1         NaN  \n",
       "2         NaN  \n",
       "3         NaN  \n",
       "4         NaN  \n",
       "\n",
       "[5 rows x 25 columns]"
      ]
     },
     "execution_count": 33,
     "metadata": {},
     "output_type": "execute_result"
    }
   ],
   "source": [
    "#a/ Load the data set\n",
    "df = pd.read_excel(\"Data_AIL.xlsx\")\n",
    "df.head()"
   ]
  },
  {
   "cell_type": "code",
   "execution_count": 34,
   "metadata": {},
   "outputs": [],
   "source": [
    "new_feature = \"container\"\n",
    "new_feature2 = \"venue\""
   ]
  },
  {
   "cell_type": "code",
   "execution_count": 35,
   "metadata": {},
   "outputs": [],
   "source": [
    "#b/ Select features\n",
    "data = df[[\"start time\",\"end time\",\"Unnamed: 11\",\"viewer feeling of youtuber's style \",new_feature, new_feature2]]"
   ]
  },
  {
   "cell_type": "code",
   "execution_count": 36,
   "metadata": {},
   "outputs": [
    {
     "data": {
      "text/html": [
       "<div>\n",
       "<style scoped>\n",
       "    .dataframe tbody tr th:only-of-type {\n",
       "        vertical-align: middle;\n",
       "    }\n",
       "\n",
       "    .dataframe tbody tr th {\n",
       "        vertical-align: top;\n",
       "    }\n",
       "\n",
       "    .dataframe thead th {\n",
       "        text-align: right;\n",
       "    }\n",
       "</style>\n",
       "<table border=\"1\" class=\"dataframe\">\n",
       "  <thead>\n",
       "    <tr style=\"text-align: right;\">\n",
       "      <th></th>\n",
       "      <th>Unnamed: 11</th>\n",
       "    </tr>\n",
       "  </thead>\n",
       "  <tbody>\n",
       "    <tr>\n",
       "      <th>count</th>\n",
       "      <td>3681.000000</td>\n",
       "    </tr>\n",
       "    <tr>\n",
       "      <th>mean</th>\n",
       "      <td>3.295844</td>\n",
       "    </tr>\n",
       "    <tr>\n",
       "      <th>std</th>\n",
       "      <td>2.817879</td>\n",
       "    </tr>\n",
       "    <tr>\n",
       "      <th>min</th>\n",
       "      <td>0.000000</td>\n",
       "    </tr>\n",
       "    <tr>\n",
       "      <th>25%</th>\n",
       "      <td>1.000000</td>\n",
       "    </tr>\n",
       "    <tr>\n",
       "      <th>50%</th>\n",
       "      <td>3.000000</td>\n",
       "    </tr>\n",
       "    <tr>\n",
       "      <th>75%</th>\n",
       "      <td>5.000000</td>\n",
       "    </tr>\n",
       "    <tr>\n",
       "      <th>max</th>\n",
       "      <td>20.000000</td>\n",
       "    </tr>\n",
       "  </tbody>\n",
       "</table>\n",
       "</div>"
      ],
      "text/plain": [
       "       Unnamed: 11\n",
       "count  3681.000000\n",
       "mean      3.295844\n",
       "std       2.817879\n",
       "min       0.000000\n",
       "25%       1.000000\n",
       "50%       3.000000\n",
       "75%       5.000000\n",
       "max      20.000000"
      ]
     },
     "execution_count": 36,
     "metadata": {},
     "output_type": "execute_result"
    }
   ],
   "source": [
    "data= data.dropna(axis= 0)\n",
    "data.describe()"
   ]
  },
  {
   "cell_type": "code",
   "execution_count": 37,
   "metadata": {},
   "outputs": [],
   "source": [
    "#convert categorize collumns to numbers\n",
    "le = LabelEncoder()\n",
    "data[new_feature] = le.fit_transform(data[new_feature])\n",
    "data[new_feature2] = le.fit_transform(data[new_feature2])"
   ]
  },
  {
   "cell_type": "code",
   "execution_count": 38,
   "metadata": {},
   "outputs": [],
   "source": [
    "# convert start time and end time to seconds\n",
    "import re\n",
    "def __check_value_time(hours=0, minutes=0, seconds=0):\n",
    "    # print('Time out: 'hours, minutes, seconds)\n",
    "    if hours > 24:\n",
    "        print('Time error: ',hours, minutes, seconds)\n",
    "        raise ValueError('Hour is out of range')\n",
    "\n",
    "    if seconds > 60:\n",
    "        print('Time error: ',hours, minutes, seconds)\n",
    "        raise ValueError('Second is out of range')\n",
    "\n",
    "    if minutes > 60:\n",
    "        print('Time error: ',hours, minutes, seconds)\n",
    "        raise ValueError('Minutes is out of range')\n",
    "\n",
    "def process_time_str(time_str):\n",
    "    time_data = re.findall('[0-9]?[0-9]', time_str)\n",
    "    TIME_WITH_HOUR = 3\n",
    "    TIME_WITH_MINUTES = 2\n",
    "    TIME_WITH_SECONDS = 1\n",
    "    MAX_SECONDS = 90060\n",
    "    # print(time_data)\n",
    "    if len(time_data) == TIME_WITH_HOUR:\n",
    "        hours = int(time_data[0])\n",
    "        minutes = int(time_data[1])\n",
    "        seconds = int(time_data[2])\n",
    "\n",
    "        __check_value_time(hours, seconds, minutes)\n",
    "\n",
    "        return (hours*3600 + minutes*60 + seconds)\n",
    "    if len(time_data) == TIME_WITH_MINUTES:\n",
    "        minutes = int(time_data[0])\n",
    "        seconds = int(time_data[1])\n",
    "\n",
    "        __check_value_time(minutes=minutes, seconds=seconds)\n",
    "\n",
    "        return (minutes*60 + seconds)\n",
    "    if len(time_data) == TIME_WITH_SECONDS:\n",
    "        seconds = int(time_data[0])\n",
    "\n",
    "        __check_value_time(seconds=seconds)\n",
    "\n",
    "        return seconds"
   ]
  },
  {
   "cell_type": "code",
   "execution_count": 39,
   "metadata": {},
   "outputs": [],
   "source": [
    "index_data = list()\n",
    "for str_time in data['start time']:\n",
    "    if str_time[0].isdigit() and str_time[-1].isdigit():\n",
    "        index_data.append(True)\n",
    "    else:\n",
    "        index_data.append(False)\n",
    "\n",
    "data = data[index_data]\n",
    "\n",
    "index_data = list()\n",
    "for str_time in data['end time']:\n",
    "    if str_time[0].isdigit() and str_time[-1].isdigit():\n",
    "        index_data.append(True)\n",
    "    else:\n",
    "        index_data.append(False)\n",
    "data = data[index_data]\n",
    "df_time = list()\n",
    "\n",
    "for start_time, end_time in zip(data['start time'], data['end time']):\n",
    "    df_time.append((process_time_str(start_time), process_time_str(end_time)))\n",
    "\n",
    "data[['start time', 'end time']] = df_time\n",
    "data[\"viewer feeling of youtuber's style \"] = data[\"viewer feeling of youtuber's style \"].astype('int')\n"
   ]
  },
  {
   "cell_type": "code",
   "execution_count": 40,
   "metadata": {},
   "outputs": [],
   "source": [
    "data['duration'] = data['end time']- data['start time']"
   ]
  },
  {
   "cell_type": "code",
   "execution_count": 41,
   "metadata": {},
   "outputs": [
    {
     "data": {
      "text/html": [
       "<div>\n",
       "<style scoped>\n",
       "    .dataframe tbody tr th:only-of-type {\n",
       "        vertical-align: middle;\n",
       "    }\n",
       "\n",
       "    .dataframe tbody tr th {\n",
       "        vertical-align: top;\n",
       "    }\n",
       "\n",
       "    .dataframe thead th {\n",
       "        text-align: right;\n",
       "    }\n",
       "</style>\n",
       "<table border=\"1\" class=\"dataframe\">\n",
       "  <thead>\n",
       "    <tr style=\"text-align: right;\">\n",
       "      <th></th>\n",
       "      <th>start time</th>\n",
       "      <th>end time</th>\n",
       "      <th>Unnamed: 11</th>\n",
       "      <th>viewer feeling of youtuber's style</th>\n",
       "      <th>container</th>\n",
       "      <th>venue</th>\n",
       "      <th>duration</th>\n",
       "    </tr>\n",
       "  </thead>\n",
       "  <tbody>\n",
       "    <tr>\n",
       "      <th>0</th>\n",
       "      <td>65</td>\n",
       "      <td>201</td>\n",
       "      <td>9</td>\n",
       "      <td>4</td>\n",
       "      <td>3</td>\n",
       "      <td>5</td>\n",
       "      <td>136</td>\n",
       "    </tr>\n",
       "    <tr>\n",
       "      <th>1</th>\n",
       "      <td>212</td>\n",
       "      <td>370</td>\n",
       "      <td>11</td>\n",
       "      <td>4</td>\n",
       "      <td>15</td>\n",
       "      <td>5</td>\n",
       "      <td>158</td>\n",
       "    </tr>\n",
       "    <tr>\n",
       "      <th>2</th>\n",
       "      <td>323</td>\n",
       "      <td>370</td>\n",
       "      <td>4</td>\n",
       "      <td>5</td>\n",
       "      <td>13</td>\n",
       "      <td>5</td>\n",
       "      <td>47</td>\n",
       "    </tr>\n",
       "    <tr>\n",
       "      <th>3</th>\n",
       "      <td>382</td>\n",
       "      <td>563</td>\n",
       "      <td>5</td>\n",
       "      <td>5</td>\n",
       "      <td>13</td>\n",
       "      <td>5</td>\n",
       "      <td>181</td>\n",
       "    </tr>\n",
       "    <tr>\n",
       "      <th>4</th>\n",
       "      <td>582</td>\n",
       "      <td>715</td>\n",
       "      <td>4</td>\n",
       "      <td>4</td>\n",
       "      <td>13</td>\n",
       "      <td>5</td>\n",
       "      <td>133</td>\n",
       "    </tr>\n",
       "  </tbody>\n",
       "</table>\n",
       "</div>"
      ],
      "text/plain": [
       "   start time  end time  Unnamed: 11  viewer feeling of youtuber's style   \\\n",
       "0          65       201            9                                    4   \n",
       "1         212       370           11                                    4   \n",
       "2         323       370            4                                    5   \n",
       "3         382       563            5                                    5   \n",
       "4         582       715            4                                    4   \n",
       "\n",
       "   container  venue  duration  \n",
       "0          3      5       136  \n",
       "1         15      5       158  \n",
       "2         13      5        47  \n",
       "3         13      5       181  \n",
       "4         13      5       133  "
      ]
     },
     "execution_count": 41,
     "metadata": {},
     "output_type": "execute_result"
    }
   ],
   "source": [
    "data= data.loc[data['duration']>=0]\n",
    "data = data.loc[data[\"viewer feeling of youtuber's style \"]!=0]\n",
    "data.head()"
   ]
  },
  {
   "cell_type": "code",
   "execution_count": 42,
   "metadata": {},
   "outputs": [
    {
     "data": {
      "text/plain": [
       "<AxesSubplot:title={'center':'Weight of class'}, ylabel='duration'>"
      ]
     },
     "execution_count": 42,
     "metadata": {},
     "output_type": "execute_result"
    },
    {
     "data": {
      "image/png": "[encoded data removed]",
      "text/plain": [
       "<Figure size 1080x720 with 1 Axes>"
      ]
     },
     "metadata": {},
     "output_type": "display_data"
    }
   ],
   "source": [
    "# Plotting the pie chart for above dataframe\n",
    "data.groupby([\"viewer feeling of youtuber's style \"]).count().plot(kind='pie',y = \"duration\", autopct='%1.0f%%',figsize=(15,10), title= \"Weight of class\")"
   ]
  },
  {
   "cell_type": "code",
   "execution_count": 43,
   "metadata": {},
   "outputs": [],
   "source": [
    "# Normalization\n",
    "data['duration'] = (data['duration']-data['duration'].mean())/(data['duration'].max()- data['duration'].min())\n",
    "data['Unnamed: 11'] = (data['Unnamed: 11']-data['Unnamed: 11'].mean())/(data['Unnamed: 11'].max() - data['Unnamed: 11'].min())\n",
    "data[new_feature] = (data[new_feature]-data[new_feature].mean())/(data[new_feature].max() - data[new_feature].min())\n",
    "data[new_feature2] = (data[new_feature2]-data[new_feature2].mean())/(data[new_feature2].max() - data[new_feature2].min())\n",
    "\n",
    "# Phân loại \n",
    "input_data = data[['duration', 'Unnamed: 11',new_feature,new_feature2]]\n",
    "output_data = data[\"viewer feeling of youtuber's style \"]"
   ]
  },
  {
   "cell_type": "code",
   "execution_count": 44,
   "metadata": {},
   "outputs": [
    {
     "data": {
      "text/plain": [
       "<AxesSubplot:>"
      ]
     },
     "execution_count": 44,
     "metadata": {},
     "output_type": "execute_result"
    },
    {
     "data": {
      "image/png": "[encoded data removed]",
      "text/plain": [
       "<Figure size 1728x1152 with 2 Axes>"
      ]
     },
     "metadata": {
      "needs_background": "light"
     },
     "output_type": "display_data"
    }
   ],
   "source": [
    "#Plot correlation matrix\n",
    "plt.figure(figsize = (24,16))\n",
    "sns.heatmap(pd.concat([input_data,output_data], axis=1).corr(), annot=True, cmap=\"coolwarm\")"
   ]
  },
  {
   "cell_type": "code",
   "execution_count": 45,
   "metadata": {},
   "outputs": [
    {
     "data": {
      "text/plain": [
       "<AxesSubplot:>"
      ]
     },
     "execution_count": 45,
     "metadata": {},
     "output_type": "execute_result"
    },
    {
     "data": {
      "image/png": "[encoded data removed]",
      "text/plain": [
       "<Figure size 720x576 with 2 Axes>"
      ]
     },
     "metadata": {
      "needs_background": "light"
     },
     "output_type": "display_data"
    }
   ],
   "source": [
    "plt.figure(figsize = (10,8))\n",
    "sns.heatmap(pd.concat([input_data[[new_feature,new_feature2]],output_data], axis=1).corr(), annot=True, cmap=\"coolwarm\")"
   ]
  },
  {
   "cell_type": "code",
   "execution_count": 46,
   "metadata": {},
   "outputs": [
    {
     "data": {
      "text/plain": [
       "Text(0, 0.5, \"Viewer's feeling\")"
      ]
     },
     "execution_count": 46,
     "metadata": {},
     "output_type": "execute_result"
    },
    {
     "data": {
      "image/png": "[encoded data removed]",
      "text/plain": [
       "<Figure size 432x288 with 1 Axes>"
      ]
     },
     "metadata": {
      "needs_background": "light"
     },
     "output_type": "display_data"
    },
    {
     "data": {
      "image/png": "[encoded data removed]",
      "text/plain": [
       "<Figure size 432x288 with 1 Axes>"
      ]
     },
     "metadata": {
      "needs_background": "light"
     },
     "output_type": "display_data"
    }
   ],
   "source": [
    "ax1 = data.plot.scatter(x=new_feature, y=\"viewer feeling of youtuber's style \", color=\"DarkBlue\", label=\"Viewer's feeling on \"+ new_feature)\n",
    "ax1.set_xlabel(new_feature)\n",
    "ax1.set_ylabel(\"Viewer's feeling\")\n",
    "ax2 = data.plot.scatter(x=new_feature2, y=\"viewer feeling of youtuber's style \", color=\"DarkBlue\", label=\"Viewer's feeling on \"+ new_feature2)\n",
    "ax2.set_xlabel(new_feature2)\n",
    "ax2.set_ylabel(\"Viewer's feeling\")"
   ]
  },
  {
   "cell_type": "code",
   "execution_count": 47,
   "metadata": {},
   "outputs": [],
   "source": [
    "#convert to numpy\n",
    "x=input_data.to_numpy()\n",
    "y=output_data.to_numpy()\n"
   ]
  },
  {
   "cell_type": "code",
   "execution_count": 48,
   "metadata": {},
   "outputs": [],
   "source": [
    "\n",
    "#c/ Split it into two parts: 70% of which you will use to train your model and the remaining data will be used to test the model.\n",
    "\n",
    "from sklearn.model_selection import train_test_split\n",
    "x_train,x_test,y_train,y_test = train_test_split(x,y,test_size= 0.3,random_state=0)"
   ]
  },
  {
   "cell_type": "code",
   "execution_count": 49,
   "metadata": {},
   "outputs": [
    {
     "name": "stdout",
     "output_type": "stream",
     "text": [
      "(2541, 4)\n",
      "(1089, 4)\n"
     ]
    }
   ],
   "source": [
    "print(x_train.shape)\n",
    "print(x_test.shape)"
   ]
  },
  {
   "cell_type": "markdown",
   "metadata": {},
   "source": [
    "3. BUILD MODEL"
   ]
  },
  {
   "cell_type": "code",
   "execution_count": 50,
   "metadata": {},
   "outputs": [],
   "source": [
    "#m = number of samples, n= number of features\n",
    "m,n = x_train.shape"
   ]
  },
  {
   "cell_type": "code",
   "execution_count": 51,
   "metadata": {},
   "outputs": [],
   "source": [
    "#add collumn 1 in x\n",
    "x_train0 = np.hstack((np.ones((x_train.shape[0],1)),x_train))\n",
    "x_test0 = np.hstack((np.ones((x_test.shape[0],1)),x_test))"
   ]
  },
  {
   "cell_type": "code",
   "execution_count": 52,
   "metadata": {},
   "outputs": [],
   "source": [
    "#y_train = y_train.reshape(-1,1)\n",
    "#y_test = y_test.reshape(-1,1)"
   ]
  },
  {
   "cell_type": "markdown",
   "metadata": {},
   "source": [
    "Setup our neural network"
   ]
  },
  {
   "cell_type": "code",
   "execution_count": 53,
   "metadata": {},
   "outputs": [],
   "source": [
    "#we set up for neural network have only 3 layer: input 1, hidden 1, output 1\n",
    "input_layer_size = n                      # Dimension of features\n",
    "hidden_layer_size = input_layer_size*2    # of units in hidden layer\n",
    "output_layer_size = 5    # number of labels\n"
   ]
  },
  {
   "cell_type": "markdown",
   "metadata": {},
   "source": [
    "INITIALIZE WEIGHT"
   ]
  },
  {
   "cell_type": "markdown",
   "metadata": {},
   "source": [
    "Now, we can initialise our weights to random small values (remember these are also called theta’s). For gradient descent, its OK to initalise to zero's, but for neural networks, it works out better if we initialise our weights to some random values. Here we develop a handy function to perform the initialization."
   ]
  },
  {
   "cell_type": "code",
   "execution_count": 54,
   "metadata": {},
   "outputs": [],
   "source": [
    "def initializeWeights(L_in, L_out):\n",
    "    epsilon_init = 0.12\n",
    "    W = np.random.rand(L_out, 1 + L_in) * 2 * epsilon_init - epsilon_init\n",
    "    return W"
   ]
  },
  {
   "cell_type": "code",
   "execution_count": 55,
   "metadata": {},
   "outputs": [],
   "source": [
    "initial_Theta1 = initializeWeights(input_layer_size, hidden_layer_size)\n",
    "initial_Theta2 = initializeWeights(hidden_layer_size, output_layer_size)\n",
    "nn_params = np.concatenate((initial_Theta1.flatten(), initial_Theta2.flatten()), axis=None)"
   ]
  },
  {
   "cell_type": "code",
   "execution_count": 57,
   "metadata": {},
   "outputs": [
    {
     "name": "stdout",
     "output_type": "stream",
     "text": [
      "Checking Cost Function (w/ Regularization) ... \n",
      "Cost at parameters (loaded from ex4weights): 3.579602 \n",
      "(this value should be about 1.776110)\n"
     ]
    },
    {
     "data": {
      "text/plain": [
       "array([-1.64287949e-02, -4.64894257e-05, -1.94410765e-04,  4.23934510e-04,\n",
       "        8.75679685e-04,  5.37715870e-03,  1.38329112e-04,  1.74464832e-04,\n",
       "       -8.77337293e-04, -6.47060671e-04,  1.87234402e-03,  2.07566257e-04,\n",
       "       -3.38376189e-04,  3.10385905e-04,  7.86985510e-04,  1.44075600e-02,\n",
       "       -9.04450352e-04,  7.48388522e-04,  9.02288688e-04,  9.34745085e-04,\n",
       "        2.10891292e-03, -5.83221520e-04, -4.36691446e-04, -4.18623597e-04,\n",
       "       -4.87504940e-04,  5.07753527e-03,  9.03786475e-04,  1.77238823e-04,\n",
       "       -6.93295198e-04,  8.71187032e-04,  4.29673319e-03, -1.27419394e-04,\n",
       "       -1.41840407e-03, -6.00460478e-05, -6.97526103e-04, -1.03782090e-02,\n",
       "        5.12572345e-04, -5.36560370e-04,  3.51285123e-04, -2.19734117e-04,\n",
       "        5.30798218e-01,  2.78293189e-01,  2.50134796e-01,  2.72846059e-01,\n",
       "        2.77269053e-01,  2.73590685e-01,  2.52283163e-01,  2.79924783e-01,\n",
       "        2.69523503e-01,  4.07406912e-01,  2.12525586e-01,  1.91446959e-01,\n",
       "        2.08985635e-01,  2.11782406e-01,  2.10381933e-01,  1.93055123e-01,\n",
       "        2.15027356e-01,  2.05949898e-01,  2.24400385e-01,  1.17012976e-01,\n",
       "        1.05958967e-01,  1.14545039e-01,  1.18073396e-01,  1.15570423e-01,\n",
       "        1.07375663e-01,  1.17853220e-01,  1.14367086e-01,  1.59053097e-01,\n",
       "        8.33259250e-02,  7.53802670e-02,  8.23362872e-02,  8.27999217e-02,\n",
       "        8.24756975e-02,  7.50812944e-02,  8.44602333e-02,  8.05523107e-02,\n",
       "        2.93438091e-01,  1.53085342e-01,  1.37909947e-01,  1.51099540e-01,\n",
       "        1.53378626e-01,  1.51813649e-01,  1.39805412e-01,  1.55958435e-01,\n",
       "        1.48856788e-01])"
      ]
     },
     "execution_count": 57,
     "metadata": {},
     "output_type": "execute_result"
    }
   ],
   "source": [
    "from checknn import *\n",
    "\n",
    "print('Checking Cost Function (w/ Regularization) ... ')\n",
    "J, g = nnCostFunction2(nn_params, input_layer_size, hidden_layer_size, output_layer_size, x_train, y_train, lambda_)\n",
    "\n",
    "print(f'Cost at parameters (loaded from ex4weights): {J:f} \\n(this value should be about 1.776110)')\n",
    "g"
   ]
  },
  {
   "cell_type": "code",
   "execution_count": 58,
   "metadata": {},
   "outputs": [
    {
     "name": "stdout",
     "output_type": "stream",
     "text": [
      "Training Neural Network... \n",
      "Warning: Maximum number of iterations has been exceeded.\n",
      "         Current function value: 2.059884\n",
      "         Iterations: 100\n",
      "         Function evaluations: 225\n",
      "         Gradient evaluations: 225\n",
      "Maximum number of iterations has been exceeded.\n"
     ]
    }
   ],
   "source": [
    "print('Training Neural Network... ')\n",
    "\n",
    "#  Change the MaxIter to a larger value to see how more training helps.\n",
    "options = {'maxiter': 100, 'disp': True}\n",
    "\n",
    "#  You should also try different values of lambda\n",
    "lambda_ = 0.05\n",
    "\n",
    "# Create \"short hand\" for the cost function to be minimized\n",
    "fun = lambda nn_params: nnCostFunction2(nn_params, input_layer_size, hidden_layer_size, output_layer_size, x_train, y_train, lambda_)[0]\n",
    "jac = lambda nn_params: nnCostFunction2(nn_params, input_layer_size, hidden_layer_size, output_layer_size, x_train, y_train, lambda_)[1]\n",
    "\n",
    "# Now, costFunction is a function that takes in only one argument (the neural network parameters)\n",
    "from scipy import optimize as opt\n",
    "res = opt.minimize(fun, nn_params, method='CG', jac=jac, options=options)\n",
    "nn_params = res.x\n",
    "cost = res.fun\n",
    "\n",
    "print(res.message)"
   ]
  },
  {
   "cell_type": "code",
   "execution_count": 59,
   "metadata": {},
   "outputs": [],
   "source": [
    "# Obtain Theta1 and Theta2 back from nn_params\n",
    "Theta1 = nn_params[:hidden_layer_size * (input_layer_size + 1)].reshape((hidden_layer_size, input_layer_size + 1))\n",
    "Theta2 = nn_params[hidden_layer_size * (input_layer_size + 1):].reshape((output_layer_size, hidden_layer_size + 1))\n"
   ]
  },
  {
   "cell_type": "code",
   "execution_count": 60,
   "metadata": {},
   "outputs": [
    {
     "name": "stdout",
     "output_type": "stream",
     "text": [
      "2.0598841464732476\n"
     ]
    }
   ],
   "source": [
    "# Cost function after gradient descent\n",
    "print(cost)"
   ]
  },
  {
   "cell_type": "code",
   "execution_count": 61,
   "metadata": {},
   "outputs": [
    {
     "name": "stdout",
     "output_type": "stream",
     "text": [
      "Training Set Accuracy: 42.424242\n"
     ]
    }
   ],
   "source": [
    "y_predict = predict(Theta1, Theta2, x_test)\n",
    "print(f'Training Set Accuracy: {(y_predict == y_test).mean() * 100:f}')"
   ]
  },
  {
   "cell_type": "code",
   "execution_count": 62,
   "metadata": {},
   "outputs": [
    {
     "data": {
      "image/png": "[encoded data removed]",
      "text/plain": [
       "<Figure size 360x360 with 1 Axes>"
      ]
     },
     "metadata": {
      "needs_background": "light"
     },
     "output_type": "display_data"
    }
   ],
   "source": [
    "from sklearn.metrics import confusion_matrix\n",
    "from sklearn.metrics import precision_score, recall_score, f1_score, accuracy_score\n",
    "conf_matrix = confusion_matrix(y_true=y_test, y_pred=y_predict)\n",
    "#\n",
    "# Print the confusion matrix using Matplotlib\n",
    "#\n",
    "fig, ax = plt.subplots(figsize=(5, 5))\n",
    "ax.matshow(conf_matrix, cmap=plt.cm.Oranges, alpha=0.3)\n",
    "for i in range(conf_matrix.shape[0]):\n",
    "    for j in range(conf_matrix.shape[1]):\n",
    "        ax.text(x=j, y=i,s=conf_matrix[i, j], va='center', ha='center', size='xx-large')\n",
    " \n",
    "plt.xlabel('Predictions', fontsize=18)\n",
    "plt.ylabel('Actuals', fontsize=18)\n",
    "plt.title('Confusion Matrix', fontsize=18)\n",
    "plt.show()\n"
   ]
  },
  {
   "cell_type": "code",
   "execution_count": 70,
   "metadata": {},
   "outputs": [
    {
     "name": "stdout",
     "output_type": "stream",
     "text": [
      "              precision    recall  f1-score   support\n",
      "\n",
      "           1       0.00      0.00      0.00        20\n",
      "           2       0.00      0.00      0.00        59\n",
      "           3       0.44      0.44      0.44       331\n",
      "           4       0.42      0.74      0.53       415\n",
      "           5       0.45      0.04      0.07       264\n",
      "\n",
      "    accuracy                           0.42      1089\n",
      "   macro avg       0.26      0.24      0.21      1089\n",
      "weighted avg       0.40      0.42      0.35      1089\n",
      "\n"
     ]
    },
    {
     "name": "stderr",
     "output_type": "stream",
     "text": [
      "c:\\Users\\Admin\\AppData\\Local\\Programs\\Python\\Python39\\lib\\site-packages\\sklearn\\metrics\\_classification.py:1327: UndefinedMetricWarning: Precision and F-score are ill-defined and being set to 0.0 in labels with no predicted samples. Use `zero_division` parameter to control this behavior.\n",
      "  _warn_prf(average, modifier, msg_start, len(result))\n",
      "c:\\Users\\Admin\\AppData\\Local\\Programs\\Python\\Python39\\lib\\site-packages\\sklearn\\metrics\\_classification.py:1327: UndefinedMetricWarning: Precision and F-score are ill-defined and being set to 0.0 in labels with no predicted samples. Use `zero_division` parameter to control this behavior.\n",
      "  _warn_prf(average, modifier, msg_start, len(result))\n",
      "c:\\Users\\Admin\\AppData\\Local\\Programs\\Python\\Python39\\lib\\site-packages\\sklearn\\metrics\\_classification.py:1327: UndefinedMetricWarning: Precision and F-score are ill-defined and being set to 0.0 in labels with no predicted samples. Use `zero_division` parameter to control this behavior.\n",
      "  _warn_prf(average, modifier, msg_start, len(result))\n"
     ]
    }
   ],
   "source": [
    "from sklearn import metrics\n",
    "print(metrics.classification_report(y_test, y_predict))"
   ]
  },
  {
   "cell_type": "code",
   "execution_count": 68,
   "metadata": {},
   "outputs": [
    {
     "data": {
      "text/html": [
       "<div>\n",
       "<style scoped>\n",
       "    .dataframe tbody tr th:only-of-type {\n",
       "        vertical-align: middle;\n",
       "    }\n",
       "\n",
       "    .dataframe tbody tr th {\n",
       "        vertical-align: top;\n",
       "    }\n",
       "\n",
       "    .dataframe thead th {\n",
       "        text-align: right;\n",
       "    }\n",
       "</style>\n",
       "<table border=\"1\" class=\"dataframe\">\n",
       "  <thead>\n",
       "    <tr style=\"text-align: right;\">\n",
       "      <th></th>\n",
       "      <th>Actual Value</th>\n",
       "      <th>Predicted Value</th>\n",
       "      <th>Difference</th>\n",
       "    </tr>\n",
       "  </thead>\n",
       "  <tbody>\n",
       "    <tr>\n",
       "      <th>0</th>\n",
       "      <td>3</td>\n",
       "      <td>3</td>\n",
       "      <td>0</td>\n",
       "    </tr>\n",
       "    <tr>\n",
       "      <th>1</th>\n",
       "      <td>4</td>\n",
       "      <td>4</td>\n",
       "      <td>0</td>\n",
       "    </tr>\n",
       "    <tr>\n",
       "      <th>2</th>\n",
       "      <td>3</td>\n",
       "      <td>3</td>\n",
       "      <td>0</td>\n",
       "    </tr>\n",
       "    <tr>\n",
       "      <th>3</th>\n",
       "      <td>3</td>\n",
       "      <td>4</td>\n",
       "      <td>-1</td>\n",
       "    </tr>\n",
       "    <tr>\n",
       "      <th>4</th>\n",
       "      <td>3</td>\n",
       "      <td>3</td>\n",
       "      <td>0</td>\n",
       "    </tr>\n",
       "    <tr>\n",
       "      <th>5</th>\n",
       "      <td>3</td>\n",
       "      <td>4</td>\n",
       "      <td>-1</td>\n",
       "    </tr>\n",
       "    <tr>\n",
       "      <th>6</th>\n",
       "      <td>4</td>\n",
       "      <td>4</td>\n",
       "      <td>0</td>\n",
       "    </tr>\n",
       "    <tr>\n",
       "      <th>7</th>\n",
       "      <td>4</td>\n",
       "      <td>4</td>\n",
       "      <td>0</td>\n",
       "    </tr>\n",
       "    <tr>\n",
       "      <th>8</th>\n",
       "      <td>5</td>\n",
       "      <td>4</td>\n",
       "      <td>1</td>\n",
       "    </tr>\n",
       "    <tr>\n",
       "      <th>9</th>\n",
       "      <td>5</td>\n",
       "      <td>4</td>\n",
       "      <td>1</td>\n",
       "    </tr>\n",
       "    <tr>\n",
       "      <th>10</th>\n",
       "      <td>4</td>\n",
       "      <td>3</td>\n",
       "      <td>1</td>\n",
       "    </tr>\n",
       "    <tr>\n",
       "      <th>11</th>\n",
       "      <td>4</td>\n",
       "      <td>4</td>\n",
       "      <td>0</td>\n",
       "    </tr>\n",
       "    <tr>\n",
       "      <th>12</th>\n",
       "      <td>3</td>\n",
       "      <td>3</td>\n",
       "      <td>0</td>\n",
       "    </tr>\n",
       "    <tr>\n",
       "      <th>13</th>\n",
       "      <td>5</td>\n",
       "      <td>4</td>\n",
       "      <td>1</td>\n",
       "    </tr>\n",
       "    <tr>\n",
       "      <th>14</th>\n",
       "      <td>3</td>\n",
       "      <td>3</td>\n",
       "      <td>0</td>\n",
       "    </tr>\n",
       "    <tr>\n",
       "      <th>15</th>\n",
       "      <td>3</td>\n",
       "      <td>4</td>\n",
       "      <td>-1</td>\n",
       "    </tr>\n",
       "    <tr>\n",
       "      <th>16</th>\n",
       "      <td>3</td>\n",
       "      <td>4</td>\n",
       "      <td>-1</td>\n",
       "    </tr>\n",
       "    <tr>\n",
       "      <th>17</th>\n",
       "      <td>5</td>\n",
       "      <td>4</td>\n",
       "      <td>1</td>\n",
       "    </tr>\n",
       "    <tr>\n",
       "      <th>18</th>\n",
       "      <td>3</td>\n",
       "      <td>3</td>\n",
       "      <td>0</td>\n",
       "    </tr>\n",
       "    <tr>\n",
       "      <th>19</th>\n",
       "      <td>5</td>\n",
       "      <td>4</td>\n",
       "      <td>1</td>\n",
       "    </tr>\n",
       "    <tr>\n",
       "      <th>20</th>\n",
       "      <td>4</td>\n",
       "      <td>4</td>\n",
       "      <td>0</td>\n",
       "    </tr>\n",
       "    <tr>\n",
       "      <th>21</th>\n",
       "      <td>5</td>\n",
       "      <td>4</td>\n",
       "      <td>1</td>\n",
       "    </tr>\n",
       "    <tr>\n",
       "      <th>22</th>\n",
       "      <td>3</td>\n",
       "      <td>4</td>\n",
       "      <td>-1</td>\n",
       "    </tr>\n",
       "    <tr>\n",
       "      <th>23</th>\n",
       "      <td>5</td>\n",
       "      <td>3</td>\n",
       "      <td>2</td>\n",
       "    </tr>\n",
       "    <tr>\n",
       "      <th>24</th>\n",
       "      <td>5</td>\n",
       "      <td>4</td>\n",
       "      <td>1</td>\n",
       "    </tr>\n",
       "    <tr>\n",
       "      <th>25</th>\n",
       "      <td>5</td>\n",
       "      <td>4</td>\n",
       "      <td>1</td>\n",
       "    </tr>\n",
       "    <tr>\n",
       "      <th>26</th>\n",
       "      <td>4</td>\n",
       "      <td>4</td>\n",
       "      <td>0</td>\n",
       "    </tr>\n",
       "    <tr>\n",
       "      <th>27</th>\n",
       "      <td>3</td>\n",
       "      <td>3</td>\n",
       "      <td>0</td>\n",
       "    </tr>\n",
       "    <tr>\n",
       "      <th>28</th>\n",
       "      <td>4</td>\n",
       "      <td>3</td>\n",
       "      <td>1</td>\n",
       "    </tr>\n",
       "    <tr>\n",
       "      <th>29</th>\n",
       "      <td>4</td>\n",
       "      <td>4</td>\n",
       "      <td>0</td>\n",
       "    </tr>\n",
       "  </tbody>\n",
       "</table>\n",
       "</div>"
      ],
      "text/plain": [
       "    Actual Value  Predicted Value  Difference\n",
       "0              3                3           0\n",
       "1              4                4           0\n",
       "2              3                3           0\n",
       "3              3                4          -1\n",
       "4              3                3           0\n",
       "5              3                4          -1\n",
       "6              4                4           0\n",
       "7              4                4           0\n",
       "8              5                4           1\n",
       "9              5                4           1\n",
       "10             4                3           1\n",
       "11             4                4           0\n",
       "12             3                3           0\n",
       "13             5                4           1\n",
       "14             3                3           0\n",
       "15             3                4          -1\n",
       "16             3                4          -1\n",
       "17             5                4           1\n",
       "18             3                3           0\n",
       "19             5                4           1\n",
       "20             4                4           0\n",
       "21             5                4           1\n",
       "22             3                4          -1\n",
       "23             5                3           2\n",
       "24             5                4           1\n",
       "25             5                4           1\n",
       "26             4                4           0\n",
       "27             3                3           0\n",
       "28             4                3           1\n",
       "29             4                4           0"
      ]
     },
     "execution_count": 68,
     "metadata": {},
     "output_type": "execute_result"
    }
   ],
   "source": [
    "#compare\n",
    "result = pd.DataFrame({'Actual Value':y_test.reshape(y_test.shape[0],),'Predicted Value':y_predict.reshape(y_predict.shape[0],),\"Difference\": (y_test - y_predict).reshape(y_test.shape[0])})\n",
    "result[0:30]"
   ]
  }
 ],
 "metadata": {
  "kernelspec": {
   "display_name": "Python 3.9.7 64-bit",
   "language": "python",
   "name": "python3"
  },
  "language_info": {
   "codemirror_mode": {
    "name": "ipython",
    "version": 3
   },
   "file_extension": ".py",
   "mimetype": "text/x-python",
   "name": "python",
   "nbconvert_exporter": "python",
   "pygments_lexer": "ipython3",
   "version": "3.9.7"
  },
  "orig_nbformat": 4,
  "vscode": {
   "interpreter": {
    "hash": "0d591c6e422414675974e227c13f5382000c440fedd3c5006ef2be5d887f0ba7"
   }
  }
 },
 "nbformat": 4,
 "nbformat_minor": 2
}
