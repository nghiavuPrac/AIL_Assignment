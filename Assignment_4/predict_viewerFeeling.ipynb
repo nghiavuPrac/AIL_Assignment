{
 "cells": [
  {
   "cell_type": "code",
   "execution_count": 130,
   "metadata": {},
   "outputs": [],
   "source": [
    "from mpl_toolkits.mplot3d import Axes3D\n",
    "from sklearn.preprocessing import StandardScaler\n",
    "from sklearn.preprocessing import LabelEncoder\n",
    "import seaborn as sns\n",
    "import matplotlib.pyplot as plt # plotting\n",
    "import numpy as np # linear algebra\n",
    "import os # accessing directory structure\n",
    "import pandas as pd # data processing, CSV file I/O (e.g. pd.read_csv)\n",
    "import matplotlib.pyplot as plt\n",
    "from sklearn import metrics"
   ]
  },
  {
   "cell_type": "markdown",
   "metadata": {},
   "source": [
    "1. IMPORT DATASET"
   ]
  },
  {
   "cell_type": "code",
   "execution_count": 131,
   "metadata": {},
   "outputs": [
    {
     "data": {
      "text/html": [
       "<div>\n",
       "<style scoped>\n",
       "    .dataframe tbody tr th:only-of-type {\n",
       "        vertical-align: middle;\n",
       "    }\n",
       "\n",
       "    .dataframe tbody tr th {\n",
       "        vertical-align: top;\n",
       "    }\n",
       "\n",
       "    .dataframe thead th {\n",
       "        text-align: right;\n",
       "    }\n",
       "</style>\n",
       "<table border=\"1\" class=\"dataframe\">\n",
       "  <thead>\n",
       "    <tr style=\"text-align: right;\">\n",
       "      <th></th>\n",
       "      <th>e</th>\n",
       "      <th>no. video</th>\n",
       "      <th>Student ID</th>\n",
       "      <th>Full name</th>\n",
       "      <th>id</th>\n",
       "      <th>standardized dish</th>\n",
       "      <th>dish occurence (based on transcript)</th>\n",
       "      <th>dish imply</th>\n",
       "      <th>start time</th>\n",
       "      <th>end time</th>\n",
       "      <th>...</th>\n",
       "      <th>sauce (based on transcript)</th>\n",
       "      <th>venue</th>\n",
       "      <th>container</th>\n",
       "      <th>describe how to make it</th>\n",
       "      <th>viewer feeling of youtuber's style</th>\n",
       "      <th>viewer feeling of presented food</th>\n",
       "      <th>YouTuber feeling</th>\n",
       "      <th>location</th>\n",
       "      <th>foreigner</th>\n",
       "      <th>Unnamed: 24</th>\n",
       "    </tr>\n",
       "  </thead>\n",
       "  <tbody>\n",
       "    <tr>\n",
       "      <th>0</th>\n",
       "      <td>1.0</td>\n",
       "      <td>51.0</td>\n",
       "      <td>NaN</td>\n",
       "      <td>NaN</td>\n",
       "      <td>5OzrpNCyXqs</td>\n",
       "      <td>snail vermicelli soup</td>\n",
       "      <td>bun oc</td>\n",
       "      <td>NaN</td>\n",
       "      <td>1:05</td>\n",
       "      <td>3:21</td>\n",
       "      <td>...</td>\n",
       "      <td>NaN</td>\n",
       "      <td>street restaurant</td>\n",
       "      <td>bowl</td>\n",
       "      <td>1.0</td>\n",
       "      <td>4.0</td>\n",
       "      <td>NaN</td>\n",
       "      <td>5.0</td>\n",
       "      <td>HN</td>\n",
       "      <td>1.0</td>\n",
       "      <td>NaN</td>\n",
       "    </tr>\n",
       "    <tr>\n",
       "      <th>1</th>\n",
       "      <td>2.0</td>\n",
       "      <td>51.0</td>\n",
       "      <td>NaN</td>\n",
       "      <td>NaN</td>\n",
       "      <td>5OzrpNCyXqs</td>\n",
       "      <td>vermicelli with fried tofu and shrimp paste</td>\n",
       "      <td>bun dau mam tom</td>\n",
       "      <td>NaN</td>\n",
       "      <td>3:32</td>\n",
       "      <td>6:10</td>\n",
       "      <td>...</td>\n",
       "      <td>fish sauce, fermented shrimp paste, pepper, ch...</td>\n",
       "      <td>street restaurant</td>\n",
       "      <td>tray</td>\n",
       "      <td>1.0</td>\n",
       "      <td>4.0</td>\n",
       "      <td>NaN</td>\n",
       "      <td>4.0</td>\n",
       "      <td>HN</td>\n",
       "      <td>1.0</td>\n",
       "      <td>NaN</td>\n",
       "    </tr>\n",
       "    <tr>\n",
       "      <th>2</th>\n",
       "      <td>3.0</td>\n",
       "      <td>51.0</td>\n",
       "      <td>NaN</td>\n",
       "      <td>NaN</td>\n",
       "      <td>5OzrpNCyXqs</td>\n",
       "      <td>fried spring roll</td>\n",
       "      <td>spring roll</td>\n",
       "      <td>NaN</td>\n",
       "      <td>5:23</td>\n",
       "      <td>6:10</td>\n",
       "      <td>...</td>\n",
       "      <td>fish sauce, sweet spicy garlic sauce</td>\n",
       "      <td>street restaurant</td>\n",
       "      <td>plate</td>\n",
       "      <td>0.0</td>\n",
       "      <td>5.0</td>\n",
       "      <td>NaN</td>\n",
       "      <td>5.0</td>\n",
       "      <td>HN</td>\n",
       "      <td>1.0</td>\n",
       "      <td>NaN</td>\n",
       "    </tr>\n",
       "    <tr>\n",
       "      <th>3</th>\n",
       "      <td>4.0</td>\n",
       "      <td>51.0</td>\n",
       "      <td>NaN</td>\n",
       "      <td>NaN</td>\n",
       "      <td>5OzrpNCyXqs</td>\n",
       "      <td>steamed rolled rice pancake</td>\n",
       "      <td>banh cuon</td>\n",
       "      <td>NaN</td>\n",
       "      <td>6:22</td>\n",
       "      <td>9:23</td>\n",
       "      <td>...</td>\n",
       "      <td>garlic water, fried caramelized scallion, pepp...</td>\n",
       "      <td>street restaurant</td>\n",
       "      <td>plate</td>\n",
       "      <td>1.0</td>\n",
       "      <td>5.0</td>\n",
       "      <td>NaN</td>\n",
       "      <td>5.0</td>\n",
       "      <td>HN</td>\n",
       "      <td>1.0</td>\n",
       "      <td>NaN</td>\n",
       "    </tr>\n",
       "    <tr>\n",
       "      <th>4</th>\n",
       "      <td>5.0</td>\n",
       "      <td>51.0</td>\n",
       "      <td>NaN</td>\n",
       "      <td>NaN</td>\n",
       "      <td>5OzrpNCyXqs</td>\n",
       "      <td>shrimp cake</td>\n",
       "      <td>shrimp cake</td>\n",
       "      <td>NaN</td>\n",
       "      <td>9:42</td>\n",
       "      <td>11:55</td>\n",
       "      <td>...</td>\n",
       "      <td>chili, sweet spicy sauce</td>\n",
       "      <td>street restaurant</td>\n",
       "      <td>plate</td>\n",
       "      <td>1.0</td>\n",
       "      <td>4.0</td>\n",
       "      <td>NaN</td>\n",
       "      <td>5.0</td>\n",
       "      <td>HN</td>\n",
       "      <td>1.0</td>\n",
       "      <td>NaN</td>\n",
       "    </tr>\n",
       "  </tbody>\n",
       "</table>\n",
       "<p>5 rows × 25 columns</p>\n",
       "</div>"
      ],
      "text/plain": [
       "     e  no. video Student ID Full name           id  \\\n",
       "0  1.0       51.0        NaN       NaN  5OzrpNCyXqs   \n",
       "1  2.0       51.0        NaN       NaN  5OzrpNCyXqs   \n",
       "2  3.0       51.0        NaN       NaN  5OzrpNCyXqs   \n",
       "3  4.0       51.0        NaN       NaN  5OzrpNCyXqs   \n",
       "4  5.0       51.0        NaN       NaN  5OzrpNCyXqs   \n",
       "\n",
       "                             standardized dish  \\\n",
       "0                        snail vermicelli soup   \n",
       "1  vermicelli with fried tofu and shrimp paste   \n",
       "2                            fried spring roll   \n",
       "3                  steamed rolled rice pancake   \n",
       "4                                  shrimp cake   \n",
       "\n",
       "        dish occurence (based on transcript) dish imply start time end time  \\\n",
       "0                                     bun oc        NaN       1:05     3:21   \n",
       "1                            bun dau mam tom        NaN       3:32     6:10   \n",
       "2                                spring roll        NaN       5:23     6:10   \n",
       "3                                  banh cuon        NaN       6:22     9:23   \n",
       "4                                shrimp cake        NaN       9:42    11:55   \n",
       "\n",
       "   ...                        sauce (based on transcript)              venue  \\\n",
       "0  ...                                                NaN  street restaurant   \n",
       "1  ...  fish sauce, fermented shrimp paste, pepper, ch...  street restaurant   \n",
       "2  ...               fish sauce, sweet spicy garlic sauce  street restaurant   \n",
       "3  ...  garlic water, fried caramelized scallion, pepp...  street restaurant   \n",
       "4  ...                           chili, sweet spicy sauce  street restaurant   \n",
       "\n",
       "  container describe how to make it viewer feeling of youtuber's style   \\\n",
       "0      bowl                     1.0                                 4.0   \n",
       "1      tray                     1.0                                 4.0   \n",
       "2     plate                     0.0                                 5.0   \n",
       "3     plate                     1.0                                 5.0   \n",
       "4     plate                     1.0                                 4.0   \n",
       "\n",
       "  viewer feeling of presented food YouTuber feeling location foreigner  \\\n",
       "0                              NaN              5.0       HN       1.0   \n",
       "1                              NaN              4.0       HN       1.0   \n",
       "2                              NaN              5.0       HN       1.0   \n",
       "3                              NaN              5.0       HN       1.0   \n",
       "4                              NaN              5.0       HN       1.0   \n",
       "\n",
       "  Unnamed: 24  \n",
       "0         NaN  \n",
       "1         NaN  \n",
       "2         NaN  \n",
       "3         NaN  \n",
       "4         NaN  \n",
       "\n",
       "[5 rows x 25 columns]"
      ]
     },
     "execution_count": 131,
     "metadata": {},
     "output_type": "execute_result"
    }
   ],
   "source": [
    "#a/ Load the data set\n",
    "df = pd.read_excel(\"Data_AIL.xlsx\")\n",
    "df.head()"
   ]
  },
  {
   "cell_type": "code",
   "execution_count": 132,
   "metadata": {},
   "outputs": [],
   "source": [
    "new_feature = \"container\"\n",
    "new_feature2 = \"venue\""
   ]
  },
  {
   "cell_type": "code",
   "execution_count": 133,
   "metadata": {},
   "outputs": [],
   "source": [
    "#b/ Select features\n",
    "data = df[[\"start time\",\"end time\",\"Unnamed: 11\",\"viewer feeling of youtuber's style \",new_feature, new_feature2]]"
   ]
  },
  {
   "cell_type": "code",
   "execution_count": 134,
   "metadata": {},
   "outputs": [
    {
     "data": {
      "text/html": [
       "<div>\n",
       "<style scoped>\n",
       "    .dataframe tbody tr th:only-of-type {\n",
       "        vertical-align: middle;\n",
       "    }\n",
       "\n",
       "    .dataframe tbody tr th {\n",
       "        vertical-align: top;\n",
       "    }\n",
       "\n",
       "    .dataframe thead th {\n",
       "        text-align: right;\n",
       "    }\n",
       "</style>\n",
       "<table border=\"1\" class=\"dataframe\">\n",
       "  <thead>\n",
       "    <tr style=\"text-align: right;\">\n",
       "      <th></th>\n",
       "      <th>Unnamed: 11</th>\n",
       "    </tr>\n",
       "  </thead>\n",
       "  <tbody>\n",
       "    <tr>\n",
       "      <th>count</th>\n",
       "      <td>3681.000000</td>\n",
       "    </tr>\n",
       "    <tr>\n",
       "      <th>mean</th>\n",
       "      <td>3.295844</td>\n",
       "    </tr>\n",
       "    <tr>\n",
       "      <th>std</th>\n",
       "      <td>2.817879</td>\n",
       "    </tr>\n",
       "    <tr>\n",
       "      <th>min</th>\n",
       "      <td>0.000000</td>\n",
       "    </tr>\n",
       "    <tr>\n",
       "      <th>25%</th>\n",
       "      <td>1.000000</td>\n",
       "    </tr>\n",
       "    <tr>\n",
       "      <th>50%</th>\n",
       "      <td>3.000000</td>\n",
       "    </tr>\n",
       "    <tr>\n",
       "      <th>75%</th>\n",
       "      <td>5.000000</td>\n",
       "    </tr>\n",
       "    <tr>\n",
       "      <th>max</th>\n",
       "      <td>20.000000</td>\n",
       "    </tr>\n",
       "  </tbody>\n",
       "</table>\n",
       "</div>"
      ],
      "text/plain": [
       "       Unnamed: 11\n",
       "count  3681.000000\n",
       "mean      3.295844\n",
       "std       2.817879\n",
       "min       0.000000\n",
       "25%       1.000000\n",
       "50%       3.000000\n",
       "75%       5.000000\n",
       "max      20.000000"
      ]
     },
     "execution_count": 134,
     "metadata": {},
     "output_type": "execute_result"
    }
   ],
   "source": [
    "data= data.dropna(axis= 0)\n",
    "data.describe()"
   ]
  },
  {
   "cell_type": "code",
   "execution_count": 135,
   "metadata": {},
   "outputs": [],
   "source": [
    "#convert categorize collumns to numbers\n",
    "le = LabelEncoder()\n",
    "data[new_feature] = le.fit_transform(data[new_feature])\n",
    "data[new_feature2] = le.fit_transform(data[new_feature2])"
   ]
  },
  {
   "cell_type": "code",
   "execution_count": 136,
   "metadata": {},
   "outputs": [],
   "source": [
    "# convert start time and end time to seconds\n",
    "import re\n",
    "def __check_value_time(hours=0, minutes=0, seconds=0):\n",
    "    # print('Time out: 'hours, minutes, seconds)\n",
    "    if hours > 24:\n",
    "        print('Time error: ',hours, minutes, seconds)\n",
    "        raise ValueError('Hour is out of range')\n",
    "\n",
    "    if seconds > 60:\n",
    "        print('Time error: ',hours, minutes, seconds)\n",
    "        raise ValueError('Second is out of range')\n",
    "\n",
    "    if minutes > 60:\n",
    "        print('Time error: ',hours, minutes, seconds)\n",
    "        raise ValueError('Minutes is out of range')\n",
    "\n",
    "def process_time_str(time_str):\n",
    "    time_data = re.findall('[0-9]?[0-9]', time_str)\n",
    "    TIME_WITH_HOUR = 3\n",
    "    TIME_WITH_MINUTES = 2\n",
    "    TIME_WITH_SECONDS = 1\n",
    "    MAX_SECONDS = 90060\n",
    "    # print(time_data)\n",
    "    if len(time_data) == TIME_WITH_HOUR:\n",
    "        hours = int(time_data[0])\n",
    "        minutes = int(time_data[1])\n",
    "        seconds = int(time_data[2])\n",
    "\n",
    "        __check_value_time(hours, seconds, minutes)\n",
    "\n",
    "        return (hours*3600 + minutes*60 + seconds)\n",
    "    if len(time_data) == TIME_WITH_MINUTES:\n",
    "        minutes = int(time_data[0])\n",
    "        seconds = int(time_data[1])\n",
    "\n",
    "        __check_value_time(minutes=minutes, seconds=seconds)\n",
    "\n",
    "        return (minutes*60 + seconds)\n",
    "    if len(time_data) == TIME_WITH_SECONDS:\n",
    "        seconds = int(time_data[0])\n",
    "\n",
    "        __check_value_time(seconds=seconds)\n",
    "\n",
    "        return seconds"
   ]
  },
  {
   "cell_type": "code",
   "execution_count": 137,
   "metadata": {},
   "outputs": [],
   "source": [
    "index_data = list()\n",
    "for str_time in data['start time']:\n",
    "    if str_time[0].isdigit() and str_time[-1].isdigit():\n",
    "        index_data.append(True)\n",
    "    else:\n",
    "        index_data.append(False)\n",
    "\n",
    "data = data[index_data]\n",
    "\n",
    "index_data = list()\n",
    "for str_time in data['end time']:\n",
    "    if str_time[0].isdigit() and str_time[-1].isdigit():\n",
    "        index_data.append(True)\n",
    "    else:\n",
    "        index_data.append(False)\n",
    "data = data[index_data]\n",
    "df_time = list()\n",
    "\n",
    "for start_time, end_time in zip(data['start time'], data['end time']):\n",
    "    df_time.append((process_time_str(start_time), process_time_str(end_time)))\n",
    "\n",
    "data[['start time', 'end time']] = df_time\n",
    "data[\"viewer feeling of youtuber's style \"] = data[\"viewer feeling of youtuber's style \"].astype('int')\n"
   ]
  },
  {
   "cell_type": "code",
   "execution_count": 138,
   "metadata": {},
   "outputs": [],
   "source": [
    "data['duration'] = data['end time']- data['start time']"
   ]
  },
  {
   "cell_type": "code",
   "execution_count": 139,
   "metadata": {},
   "outputs": [
    {
     "data": {
      "text/html": [
       "<div>\n",
       "<style scoped>\n",
       "    .dataframe tbody tr th:only-of-type {\n",
       "        vertical-align: middle;\n",
       "    }\n",
       "\n",
       "    .dataframe tbody tr th {\n",
       "        vertical-align: top;\n",
       "    }\n",
       "\n",
       "    .dataframe thead th {\n",
       "        text-align: right;\n",
       "    }\n",
       "</style>\n",
       "<table border=\"1\" class=\"dataframe\">\n",
       "  <thead>\n",
       "    <tr style=\"text-align: right;\">\n",
       "      <th></th>\n",
       "      <th>start time</th>\n",
       "      <th>end time</th>\n",
       "      <th>Unnamed: 11</th>\n",
       "      <th>viewer feeling of youtuber's style</th>\n",
       "      <th>container</th>\n",
       "      <th>venue</th>\n",
       "      <th>duration</th>\n",
       "    </tr>\n",
       "  </thead>\n",
       "  <tbody>\n",
       "    <tr>\n",
       "      <th>0</th>\n",
       "      <td>65</td>\n",
       "      <td>201</td>\n",
       "      <td>9</td>\n",
       "      <td>4</td>\n",
       "      <td>3</td>\n",
       "      <td>5</td>\n",
       "      <td>136</td>\n",
       "    </tr>\n",
       "    <tr>\n",
       "      <th>1</th>\n",
       "      <td>212</td>\n",
       "      <td>370</td>\n",
       "      <td>11</td>\n",
       "      <td>4</td>\n",
       "      <td>15</td>\n",
       "      <td>5</td>\n",
       "      <td>158</td>\n",
       "    </tr>\n",
       "    <tr>\n",
       "      <th>2</th>\n",
       "      <td>323</td>\n",
       "      <td>370</td>\n",
       "      <td>4</td>\n",
       "      <td>5</td>\n",
       "      <td>13</td>\n",
       "      <td>5</td>\n",
       "      <td>47</td>\n",
       "    </tr>\n",
       "    <tr>\n",
       "      <th>3</th>\n",
       "      <td>382</td>\n",
       "      <td>563</td>\n",
       "      <td>5</td>\n",
       "      <td>5</td>\n",
       "      <td>13</td>\n",
       "      <td>5</td>\n",
       "      <td>181</td>\n",
       "    </tr>\n",
       "    <tr>\n",
       "      <th>4</th>\n",
       "      <td>582</td>\n",
       "      <td>715</td>\n",
       "      <td>4</td>\n",
       "      <td>4</td>\n",
       "      <td>13</td>\n",
       "      <td>5</td>\n",
       "      <td>133</td>\n",
       "    </tr>\n",
       "  </tbody>\n",
       "</table>\n",
       "</div>"
      ],
      "text/plain": [
       "   start time  end time  Unnamed: 11  viewer feeling of youtuber's style   \\\n",
       "0          65       201            9                                    4   \n",
       "1         212       370           11                                    4   \n",
       "2         323       370            4                                    5   \n",
       "3         382       563            5                                    5   \n",
       "4         582       715            4                                    4   \n",
       "\n",
       "   container  venue  duration  \n",
       "0          3      5       136  \n",
       "1         15      5       158  \n",
       "2         13      5        47  \n",
       "3         13      5       181  \n",
       "4         13      5       133  "
      ]
     },
     "execution_count": 139,
     "metadata": {},
     "output_type": "execute_result"
    }
   ],
   "source": [
    "data= data.loc[data['duration']>=0]\n",
    "data = data.loc[data[\"viewer feeling of youtuber's style \"]!=0]\n",
    "data.head()"
   ]
  },
  {
   "cell_type": "code",
   "execution_count": 140,
   "metadata": {},
   "outputs": [
    {
     "data": {
      "text/plain": [
       "<AxesSubplot:title={'center':'Weight of class'}, ylabel='duration'>"
      ]
     },
     "execution_count": 140,
     "metadata": {},
     "output_type": "execute_result"
    },
    {
     "data": {
      "image/png": "[encoded data removed]",
      "text/plain": [
       "<Figure size 1080x720 with 1 Axes>"
      ]
     },
     "metadata": {},
     "output_type": "display_data"
    }
   ],
   "source": [
    "# Plotting the pie chart for above dataframe\n",
    "data.groupby([\"viewer feeling of youtuber's style \"]).count().plot(kind='pie',y = \"duration\", autopct='%1.0f%%',figsize=(15,10), title= \"Weight of class\")"
   ]
  },
  {
   "cell_type": "code",
   "execution_count": 141,
   "metadata": {},
   "outputs": [],
   "source": [
    "# Normalization\n",
    "data['duration'] = (data['duration']-data['duration'].mean())/(data['duration'].max()- data['duration'].min())\n",
    "data['Unnamed: 11'] = (data['Unnamed: 11']-data['Unnamed: 11'].mean())/(data['Unnamed: 11'].max() - data['Unnamed: 11'].min())\n",
    "data[new_feature] = (data[new_feature]-data[new_feature].mean())/(data[new_feature].max() - data[new_feature].min())\n",
    "data[new_feature2] = (data[new_feature2]-data[new_feature2].mean())/(data[new_feature2].max() - data[new_feature2].min())\n",
    "\n",
    "# Phân loại \n",
    "input_data = data[['duration', 'Unnamed: 11',new_feature,new_feature2]]\n",
    "output_data = data[\"viewer feeling of youtuber's style \"]"
   ]
  },
  {
   "cell_type": "code",
   "execution_count": 142,
   "metadata": {},
   "outputs": [
    {
     "data": {
      "text/plain": [
       "<AxesSubplot:>"
      ]
     },
     "execution_count": 142,
     "metadata": {},
     "output_type": "execute_result"
    },
    {
     "data": {
      "image/png": "[encoded data removed]",
      "text/plain": [
       "<Figure size 1728x1152 with 2 Axes>"
      ]
     },
     "metadata": {
      "needs_background": "light"
     },
     "output_type": "display_data"
    }
   ],
   "source": [
    "#Plot correlation matrix\n",
    "plt.figure(figsize = (24,16))\n",
    "sns.heatmap(pd.concat([input_data,output_data], axis=1).corr(), annot=True, cmap=\"coolwarm\")"
   ]
  },
  {
   "cell_type": "code",
   "execution_count": 143,
   "metadata": {},
   "outputs": [
    {
     "data": {
      "text/plain": [
       "<AxesSubplot:>"
      ]
     },
     "execution_count": 143,
     "metadata": {},
     "output_type": "execute_result"
    },
    {
     "data": {
      "image/png": "[encoded data removed]",
      "text/plain": [
       "<Figure size 720x576 with 2 Axes>"
      ]
     },
     "metadata": {
      "needs_background": "light"
     },
     "output_type": "display_data"
    }
   ],
   "source": [
    "plt.figure(figsize = (10,8))\n",
    "sns.heatmap(pd.concat([input_data[[new_feature,new_feature2]],output_data], axis=1).corr(), annot=True, cmap=\"coolwarm\")"
   ]
  },
  {
   "cell_type": "code",
   "execution_count": 144,
   "metadata": {},
   "outputs": [
    {
     "data": {
      "text/plain": [
       "Text(0, 0.5, \"Viewer's feeling\")"
      ]
     },
     "execution_count": 144,
     "metadata": {},
     "output_type": "execute_result"
    },
    {
     "data": {
      "image/png": "[encoded data removed]",
      "text/plain": [
       "<Figure size 432x288 with 1 Axes>"
      ]
     },
     "metadata": {
      "needs_background": "light"
     },
     "output_type": "display_data"
    },
    {
     "data": {
      "image/png": "[encoded data removed]",
      "text/plain": [
       "<Figure size 432x288 with 1 Axes>"
      ]
     },
     "metadata": {
      "needs_background": "light"
     },
     "output_type": "display_data"
    }
   ],
   "source": [
    "ax1 = data.plot.scatter(x=new_feature, y=\"viewer feeling of youtuber's style \", color=\"DarkBlue\", label=\"Viewer's feeling on \"+ new_feature)\n",
    "ax1.set_xlabel(new_feature)\n",
    "ax1.set_ylabel(\"Viewer's feeling\")\n",
    "ax2 = data.plot.scatter(x=new_feature2, y=\"viewer feeling of youtuber's style \", color=\"DarkBlue\", label=\"Viewer's feeling on \"+ new_feature2)\n",
    "ax2.set_xlabel(new_feature2)\n",
    "ax2.set_ylabel(\"Viewer's feeling\")"
   ]
  },
  {
   "cell_type": "code",
   "execution_count": 145,
   "metadata": {},
   "outputs": [
    {
     "data": {
      "text/plain": [
       "Text(0, 0.5, 'Number of ingredients')"
      ]
     },
     "execution_count": 145,
     "metadata": {},
     "output_type": "execute_result"
    },
    {
     "data": {
      "image/png": "[encoded data removed]",
      "text/plain": [
       "<Figure size 432x288 with 1 Axes>"
      ]
     },
     "metadata": {
      "needs_background": "light"
     },
     "output_type": "display_data"
    }
   ],
   "source": [
    "ax3 = data.plot.scatter(x=\"duration\", y='Unnamed: 11', color=\"Darkgreen\", label= \"Number of ingredients on duration\")\n",
    "ax3.set_xlabel(\"duration\")\n",
    "ax3.set_ylabel(\"Number of ingredients\")"
   ]
  },
  {
   "cell_type": "code",
   "execution_count": 146,
   "metadata": {},
   "outputs": [],
   "source": [
    "#convert to numpy\n",
    "x=input_data.to_numpy()\n",
    "y=output_data.to_numpy()\n"
   ]
  },
  {
   "cell_type": "code",
   "execution_count": 147,
   "metadata": {},
   "outputs": [
    {
     "data": {
      "text/html": [
       "<div>\n",
       "<style scoped>\n",
       "    .dataframe tbody tr th:only-of-type {\n",
       "        vertical-align: middle;\n",
       "    }\n",
       "\n",
       "    .dataframe tbody tr th {\n",
       "        vertical-align: top;\n",
       "    }\n",
       "\n",
       "    .dataframe thead th {\n",
       "        text-align: right;\n",
       "    }\n",
       "</style>\n",
       "<table border=\"1\" class=\"dataframe\">\n",
       "  <thead>\n",
       "    <tr style=\"text-align: right;\">\n",
       "      <th></th>\n",
       "      <th>Viewer's feeling</th>\n",
       "      <th>duration</th>\n",
       "      <th>Number of ingredient</th>\n",
       "      <th>container</th>\n",
       "      <th>venue</th>\n",
       "    </tr>\n",
       "  </thead>\n",
       "  <tbody>\n",
       "    <tr>\n",
       "      <th>0</th>\n",
       "      <td>4</td>\n",
       "      <td>0.025549</td>\n",
       "      <td>0.285</td>\n",
       "      <td>-0.349742</td>\n",
       "      <td>0.435482</td>\n",
       "    </tr>\n",
       "    <tr>\n",
       "      <th>1</th>\n",
       "      <td>4</td>\n",
       "      <td>0.038786</td>\n",
       "      <td>0.385</td>\n",
       "      <td>0.400258</td>\n",
       "      <td>0.435482</td>\n",
       "    </tr>\n",
       "    <tr>\n",
       "      <th>2</th>\n",
       "      <td>5</td>\n",
       "      <td>-0.028001</td>\n",
       "      <td>0.035</td>\n",
       "      <td>0.275258</td>\n",
       "      <td>0.435482</td>\n",
       "    </tr>\n",
       "    <tr>\n",
       "      <th>3</th>\n",
       "      <td>5</td>\n",
       "      <td>0.052624</td>\n",
       "      <td>0.085</td>\n",
       "      <td>0.275258</td>\n",
       "      <td>0.435482</td>\n",
       "    </tr>\n",
       "    <tr>\n",
       "      <th>4</th>\n",
       "      <td>4</td>\n",
       "      <td>0.023744</td>\n",
       "      <td>0.035</td>\n",
       "      <td>0.275258</td>\n",
       "      <td>0.435482</td>\n",
       "    </tr>\n",
       "  </tbody>\n",
       "</table>\n",
       "</div>"
      ],
      "text/plain": [
       "   Viewer's feeling  duration  Number of ingredient  container     venue\n",
       "0                 4  0.025549                 0.285  -0.349742  0.435482\n",
       "1                 4  0.038786                 0.385   0.400258  0.435482\n",
       "2                 5 -0.028001                 0.035   0.275258  0.435482\n",
       "3                 5  0.052624                 0.085   0.275258  0.435482\n",
       "4                 4  0.023744                 0.035   0.275258  0.435482"
      ]
     },
     "execution_count": 147,
     "metadata": {},
     "output_type": "execute_result"
    }
   ],
   "source": [
    "feature = pd.DataFrame({\"Viewer's feeling\": y,\"duration\":x[:,0],\"Number of ingredient\":x[:,1],\"container\":x[:,2],\"venue\":x[:,3]})\n",
    "feature.head()\n"
   ]
  },
  {
   "cell_type": "code",
   "execution_count": 148,
   "metadata": {},
   "outputs": [],
   "source": [
    "\n",
    "#c/ Split it into two parts: 70% of which you will use to train your model and the remaining data will be used to test the model.\n",
    "\n",
    "from sklearn.model_selection import train_test_split\n",
    "x_train,x_test,y_train,y_test = train_test_split(x,y,test_size= 0.3,random_state=0)"
   ]
  },
  {
   "cell_type": "code",
   "execution_count": 149,
   "metadata": {},
   "outputs": [
    {
     "name": "stdout",
     "output_type": "stream",
     "text": [
      "(2541, 4)\n",
      "(1089, 4)\n"
     ]
    }
   ],
   "source": [
    "print(x_train.shape)\n",
    "print(x_test.shape)"
   ]
  },
  {
   "cell_type": "markdown",
   "metadata": {},
   "source": [
    "3. SVM"
   ]
  },
  {
   "cell_type": "code",
   "execution_count": 150,
   "metadata": {},
   "outputs": [
    {
     "name": "stdout",
     "output_type": "stream",
     "text": [
      "Accuracy: 0.418732782369146\n"
     ]
    }
   ],
   "source": [
    "from sklearn import svm\n",
    "from sklearn import metrics\n",
    "#Create a svm Classifier\n",
    "clf = svm.SVC() # default Kernel\n",
    "\n",
    "#Train the model using the training sets\n",
    "clf.fit(x_train, y_train)\n",
    "\n",
    "#Predict the response for test dataset\n",
    "y_pred = clf.predict(x_test)\n",
    "\n",
    "# Model Accuracy: how often is the classifier correct?\n",
    "print(\"Accuracy:\",metrics.accuracy_score(y_test, y_pred))"
   ]
  },
  {
   "cell_type": "code",
   "execution_count": 151,
   "metadata": {},
   "outputs": [
    {
     "data": {
      "text/plain": [
       "{'C': 1.0,\n",
       " 'break_ties': False,\n",
       " 'cache_size': 200,\n",
       " 'class_weight': None,\n",
       " 'coef0': 0.0,\n",
       " 'decision_function_shape': 'ovr',\n",
       " 'degree': 3,\n",
       " 'gamma': 'scale',\n",
       " 'kernel': 'rbf',\n",
       " 'max_iter': -1,\n",
       " 'probability': False,\n",
       " 'random_state': None,\n",
       " 'shrinking': True,\n",
       " 'tol': 0.001,\n",
       " 'verbose': False}"
      ]
     },
     "execution_count": 151,
     "metadata": {},
     "output_type": "execute_result"
    }
   ],
   "source": [
    "clf.get_params()"
   ]
  },
  {
   "cell_type": "markdown",
   "metadata": {},
   "source": [
    "Grid Search"
   ]
  },
  {
   "cell_type": "code",
   "execution_count": 152,
   "metadata": {},
   "outputs": [
    {
     "name": "stdout",
     "output_type": "stream",
     "text": [
      "GridSearchCV took 26.41 seconds for 22 candidate parameter settings.\n"
     ]
    }
   ],
   "source": [
    "from sklearn.model_selection import GridSearchCV, RandomizedSearchCV\n",
    "from time import time\n",
    "# Define the grid\n",
    "param_grid = [\n",
    "    {'C': [ 0.1, 1, 50, 100 ,200, 400 ],'kernel': ['rbf']},\n",
    "    {'C': [0.1, 1, 10, 100], 'gamma': [0.001, 0.0001], 'kernel': ['rbf','poly']}\n",
    "]\n",
    "# Instantiate GridSearchCV\n",
    "model_gridsearch = GridSearchCV(estimator=clf,\n",
    "                                param_grid=param_grid,\n",
    "                                scoring='accuracy',\n",
    "                                n_jobs=4,\n",
    "                                cv=5,\n",
    "                                refit=True,\n",
    "                                return_train_score=True\n",
    "                                )\n",
    "# Record the current time              \n",
    "start = time()\n",
    "\n",
    "# Fit the selected model\n",
    "model_gridsearch.fit(x_train, y_train)\n",
    "\n",
    "# Print the time spend and number of models ran\n",
    "print(\"GridSearchCV took %.2f seconds for %d candidate parameter settings.\" % ((time() - start), len(model_gridsearch.cv_results_['params'])))\n"
   ]
  },
  {
   "cell_type": "code",
   "execution_count": 153,
   "metadata": {},
   "outputs": [
    {
     "name": "stdout",
     "output_type": "stream",
     "text": [
      "0.43526170798898073\n"
     ]
    }
   ],
   "source": [
    "# Predict on the test set and call accuracy\n",
    "y_pred_grid = model_gridsearch.predict(x_test)\n",
    "accuracy_grid = metrics.accuracy_score(y_test, y_pred_grid)\n",
    "print(accuracy_grid)"
   ]
  },
  {
   "cell_type": "code",
   "execution_count": 154,
   "metadata": {},
   "outputs": [
    {
     "name": "stdout",
     "output_type": "stream",
     "text": [
      "{'C': 200, 'kernel': 'rbf'}\n"
     ]
    }
   ],
   "source": [
    "print(model_gridsearch.best_params_)"
   ]
  },
  {
   "cell_type": "code",
   "execution_count": 155,
   "metadata": {},
   "outputs": [
    {
     "data": {
      "text/html": [
       "<div>\n",
       "<style scoped>\n",
       "    .dataframe tbody tr th:only-of-type {\n",
       "        vertical-align: middle;\n",
       "    }\n",
       "\n",
       "    .dataframe tbody tr th {\n",
       "        vertical-align: top;\n",
       "    }\n",
       "\n",
       "    .dataframe thead th {\n",
       "        text-align: right;\n",
       "    }\n",
       "</style>\n",
       "<table border=\"1\" class=\"dataframe\">\n",
       "  <thead>\n",
       "    <tr style=\"text-align: right;\">\n",
       "      <th></th>\n",
       "      <th>Actual Value</th>\n",
       "      <th>Predicted Value</th>\n",
       "      <th>Difference</th>\n",
       "    </tr>\n",
       "  </thead>\n",
       "  <tbody>\n",
       "    <tr>\n",
       "      <th>0</th>\n",
       "      <td>3</td>\n",
       "      <td>3</td>\n",
       "      <td>0</td>\n",
       "    </tr>\n",
       "    <tr>\n",
       "      <th>1</th>\n",
       "      <td>4</td>\n",
       "      <td>4</td>\n",
       "      <td>0</td>\n",
       "    </tr>\n",
       "    <tr>\n",
       "      <th>2</th>\n",
       "      <td>3</td>\n",
       "      <td>3</td>\n",
       "      <td>0</td>\n",
       "    </tr>\n",
       "    <tr>\n",
       "      <th>3</th>\n",
       "      <td>3</td>\n",
       "      <td>4</td>\n",
       "      <td>-1</td>\n",
       "    </tr>\n",
       "    <tr>\n",
       "      <th>4</th>\n",
       "      <td>3</td>\n",
       "      <td>3</td>\n",
       "      <td>0</td>\n",
       "    </tr>\n",
       "    <tr>\n",
       "      <th>5</th>\n",
       "      <td>3</td>\n",
       "      <td>4</td>\n",
       "      <td>-1</td>\n",
       "    </tr>\n",
       "    <tr>\n",
       "      <th>6</th>\n",
       "      <td>4</td>\n",
       "      <td>4</td>\n",
       "      <td>0</td>\n",
       "    </tr>\n",
       "    <tr>\n",
       "      <th>7</th>\n",
       "      <td>4</td>\n",
       "      <td>4</td>\n",
       "      <td>0</td>\n",
       "    </tr>\n",
       "    <tr>\n",
       "      <th>8</th>\n",
       "      <td>5</td>\n",
       "      <td>4</td>\n",
       "      <td>1</td>\n",
       "    </tr>\n",
       "    <tr>\n",
       "      <th>9</th>\n",
       "      <td>5</td>\n",
       "      <td>3</td>\n",
       "      <td>2</td>\n",
       "    </tr>\n",
       "    <tr>\n",
       "      <th>10</th>\n",
       "      <td>4</td>\n",
       "      <td>3</td>\n",
       "      <td>1</td>\n",
       "    </tr>\n",
       "    <tr>\n",
       "      <th>11</th>\n",
       "      <td>4</td>\n",
       "      <td>4</td>\n",
       "      <td>0</td>\n",
       "    </tr>\n",
       "    <tr>\n",
       "      <th>12</th>\n",
       "      <td>3</td>\n",
       "      <td>3</td>\n",
       "      <td>0</td>\n",
       "    </tr>\n",
       "    <tr>\n",
       "      <th>13</th>\n",
       "      <td>5</td>\n",
       "      <td>4</td>\n",
       "      <td>1</td>\n",
       "    </tr>\n",
       "    <tr>\n",
       "      <th>14</th>\n",
       "      <td>3</td>\n",
       "      <td>3</td>\n",
       "      <td>0</td>\n",
       "    </tr>\n",
       "    <tr>\n",
       "      <th>15</th>\n",
       "      <td>3</td>\n",
       "      <td>4</td>\n",
       "      <td>-1</td>\n",
       "    </tr>\n",
       "    <tr>\n",
       "      <th>16</th>\n",
       "      <td>3</td>\n",
       "      <td>4</td>\n",
       "      <td>-1</td>\n",
       "    </tr>\n",
       "    <tr>\n",
       "      <th>17</th>\n",
       "      <td>5</td>\n",
       "      <td>5</td>\n",
       "      <td>0</td>\n",
       "    </tr>\n",
       "    <tr>\n",
       "      <th>18</th>\n",
       "      <td>3</td>\n",
       "      <td>3</td>\n",
       "      <td>0</td>\n",
       "    </tr>\n",
       "    <tr>\n",
       "      <th>19</th>\n",
       "      <td>5</td>\n",
       "      <td>4</td>\n",
       "      <td>1</td>\n",
       "    </tr>\n",
       "  </tbody>\n",
       "</table>\n",
       "</div>"
      ],
      "text/plain": [
       "    Actual Value  Predicted Value  Difference\n",
       "0              3                3           0\n",
       "1              4                4           0\n",
       "2              3                3           0\n",
       "3              3                4          -1\n",
       "4              3                3           0\n",
       "5              3                4          -1\n",
       "6              4                4           0\n",
       "7              4                4           0\n",
       "8              5                4           1\n",
       "9              5                3           2\n",
       "10             4                3           1\n",
       "11             4                4           0\n",
       "12             3                3           0\n",
       "13             5                4           1\n",
       "14             3                3           0\n",
       "15             3                4          -1\n",
       "16             3                4          -1\n",
       "17             5                5           0\n",
       "18             3                3           0\n",
       "19             5                4           1"
      ]
     },
     "execution_count": 155,
     "metadata": {},
     "output_type": "execute_result"
    }
   ],
   "source": [
    "#compare\n",
    "result = pd.DataFrame({'Actual Value':y_test.reshape(y_test.shape[0],),'Predicted Value':y_pred_grid.reshape(y_pred_grid.shape[0],),\"Difference\": (y_test - y_pred_grid).reshape(y_test.shape[0])})\n",
    "result[0:20]"
   ]
  },
  {
   "cell_type": "markdown",
   "metadata": {},
   "source": [
    "Random Search\n"
   ]
  },
  {
   "cell_type": "code",
   "execution_count": 161,
   "metadata": {},
   "outputs": [
    {
     "name": "stdout",
     "output_type": "stream",
     "text": [
      "RandomizedSearchCV took 68.69 seconds for 50 candidate parameter settings.\n"
     ]
    }
   ],
   "source": [
    "import scipy\n",
    "from sklearn.model_selection import RandomizedSearchCV\n",
    "# specify distributions to sample from\n",
    "from sklearn.utils.fixes import loguniform\n",
    "\n",
    "param_dist = {'C': scipy.stats.expon(scale=100), \n",
    "              'gamma': scipy.stats.expon(scale=.1),\n",
    "              'kernel': ['rbf','poly']}\n",
    "\n",
    "# specify number of search iterations\n",
    "n_iter_search = 50\n",
    "\n",
    "# Instantiate RandomSearchCV\n",
    "model_random_search = RandomizedSearchCV(estimator=clf,\n",
    "                                         param_distributions=param_dist,\n",
    "                                         n_iter=n_iter_search)\n",
    "\n",
    "# Record the current time\n",
    "start = time()\n",
    "\n",
    "# Fit the selected model\n",
    "model_random_search.fit(x_train, y_train)\n",
    "\n",
    "# Print the time spend and number of models ran\n",
    "print(\"RandomizedSearchCV took %.2f seconds for %d candidate parameter settings.\" % ((time() - start), n_iter_search))"
   ]
  },
  {
   "cell_type": "code",
   "execution_count": 162,
   "metadata": {},
   "outputs": [
    {
     "name": "stdout",
     "output_type": "stream",
     "text": [
      "0.4214876033057851\n"
     ]
    }
   ],
   "source": [
    "# Predict on the test set and call accuracy\n",
    "y_pred_random = model_random_search.predict(x_test)\n",
    "accuracy_random = metrics.accuracy_score(y_test, y_pred_random)\n",
    "print(accuracy_random)\n"
   ]
  },
  {
   "cell_type": "code",
   "execution_count": 163,
   "metadata": {},
   "outputs": [
    {
     "name": "stdout",
     "output_type": "stream",
     "text": [
      "{'C': 232.40076167416785, 'gamma': 0.2876140350525856, 'kernel': 'rbf'}\n"
     ]
    }
   ],
   "source": [
    "print(model_random_search.best_params_)"
   ]
  },
  {
   "cell_type": "code",
   "execution_count": 164,
   "metadata": {},
   "outputs": [
    {
     "data": {
      "text/html": [
       "<div>\n",
       "<style scoped>\n",
       "    .dataframe tbody tr th:only-of-type {\n",
       "        vertical-align: middle;\n",
       "    }\n",
       "\n",
       "    .dataframe tbody tr th {\n",
       "        vertical-align: top;\n",
       "    }\n",
       "\n",
       "    .dataframe thead th {\n",
       "        text-align: right;\n",
       "    }\n",
       "</style>\n",
       "<table border=\"1\" class=\"dataframe\">\n",
       "  <thead>\n",
       "    <tr style=\"text-align: right;\">\n",
       "      <th></th>\n",
       "      <th>Actual Value</th>\n",
       "      <th>Predicted Value</th>\n",
       "      <th>Difference</th>\n",
       "    </tr>\n",
       "  </thead>\n",
       "  <tbody>\n",
       "    <tr>\n",
       "      <th>0</th>\n",
       "      <td>3</td>\n",
       "      <td>3</td>\n",
       "      <td>0</td>\n",
       "    </tr>\n",
       "    <tr>\n",
       "      <th>1</th>\n",
       "      <td>4</td>\n",
       "      <td>4</td>\n",
       "      <td>0</td>\n",
       "    </tr>\n",
       "    <tr>\n",
       "      <th>2</th>\n",
       "      <td>3</td>\n",
       "      <td>3</td>\n",
       "      <td>0</td>\n",
       "    </tr>\n",
       "    <tr>\n",
       "      <th>3</th>\n",
       "      <td>3</td>\n",
       "      <td>4</td>\n",
       "      <td>-1</td>\n",
       "    </tr>\n",
       "    <tr>\n",
       "      <th>4</th>\n",
       "      <td>3</td>\n",
       "      <td>3</td>\n",
       "      <td>0</td>\n",
       "    </tr>\n",
       "    <tr>\n",
       "      <th>5</th>\n",
       "      <td>3</td>\n",
       "      <td>4</td>\n",
       "      <td>-1</td>\n",
       "    </tr>\n",
       "    <tr>\n",
       "      <th>6</th>\n",
       "      <td>4</td>\n",
       "      <td>4</td>\n",
       "      <td>0</td>\n",
       "    </tr>\n",
       "    <tr>\n",
       "      <th>7</th>\n",
       "      <td>4</td>\n",
       "      <td>3</td>\n",
       "      <td>1</td>\n",
       "    </tr>\n",
       "    <tr>\n",
       "      <th>8</th>\n",
       "      <td>5</td>\n",
       "      <td>4</td>\n",
       "      <td>1</td>\n",
       "    </tr>\n",
       "    <tr>\n",
       "      <th>9</th>\n",
       "      <td>5</td>\n",
       "      <td>3</td>\n",
       "      <td>2</td>\n",
       "    </tr>\n",
       "    <tr>\n",
       "      <th>10</th>\n",
       "      <td>4</td>\n",
       "      <td>3</td>\n",
       "      <td>1</td>\n",
       "    </tr>\n",
       "    <tr>\n",
       "      <th>11</th>\n",
       "      <td>4</td>\n",
       "      <td>4</td>\n",
       "      <td>0</td>\n",
       "    </tr>\n",
       "    <tr>\n",
       "      <th>12</th>\n",
       "      <td>3</td>\n",
       "      <td>3</td>\n",
       "      <td>0</td>\n",
       "    </tr>\n",
       "    <tr>\n",
       "      <th>13</th>\n",
       "      <td>5</td>\n",
       "      <td>4</td>\n",
       "      <td>1</td>\n",
       "    </tr>\n",
       "    <tr>\n",
       "      <th>14</th>\n",
       "      <td>3</td>\n",
       "      <td>3</td>\n",
       "      <td>0</td>\n",
       "    </tr>\n",
       "    <tr>\n",
       "      <th>15</th>\n",
       "      <td>3</td>\n",
       "      <td>4</td>\n",
       "      <td>-1</td>\n",
       "    </tr>\n",
       "    <tr>\n",
       "      <th>16</th>\n",
       "      <td>3</td>\n",
       "      <td>4</td>\n",
       "      <td>-1</td>\n",
       "    </tr>\n",
       "    <tr>\n",
       "      <th>17</th>\n",
       "      <td>5</td>\n",
       "      <td>4</td>\n",
       "      <td>1</td>\n",
       "    </tr>\n",
       "    <tr>\n",
       "      <th>18</th>\n",
       "      <td>3</td>\n",
       "      <td>3</td>\n",
       "      <td>0</td>\n",
       "    </tr>\n",
       "    <tr>\n",
       "      <th>19</th>\n",
       "      <td>5</td>\n",
       "      <td>4</td>\n",
       "      <td>1</td>\n",
       "    </tr>\n",
       "  </tbody>\n",
       "</table>\n",
       "</div>"
      ],
      "text/plain": [
       "    Actual Value  Predicted Value  Difference\n",
       "0              3                3           0\n",
       "1              4                4           0\n",
       "2              3                3           0\n",
       "3              3                4          -1\n",
       "4              3                3           0\n",
       "5              3                4          -1\n",
       "6              4                4           0\n",
       "7              4                3           1\n",
       "8              5                4           1\n",
       "9              5                3           2\n",
       "10             4                3           1\n",
       "11             4                4           0\n",
       "12             3                3           0\n",
       "13             5                4           1\n",
       "14             3                3           0\n",
       "15             3                4          -1\n",
       "16             3                4          -1\n",
       "17             5                4           1\n",
       "18             3                3           0\n",
       "19             5                4           1"
      ]
     },
     "execution_count": 164,
     "metadata": {},
     "output_type": "execute_result"
    }
   ],
   "source": [
    "#compare\n",
    "result = pd.DataFrame({'Actual Value':y_test.reshape(y_test.shape[0],),'Predicted Value':y_pred_random.reshape(y_pred_grid.shape[0],),\"Difference\": (y_test - y_pred_random).reshape(y_test.shape[0])})\n",
    "result[0:20]"
   ]
  }
 ],
 "metadata": {
  "kernelspec": {
   "display_name": "Python 3.9.7 64-bit",
   "language": "python",
   "name": "python3"
  },
  "language_info": {
   "codemirror_mode": {
    "name": "ipython",
    "version": 3
   },
   "file_extension": ".py",
   "mimetype": "text/x-python",
   "name": "python",
   "nbconvert_exporter": "python",
   "pygments_lexer": "ipython3",
   "version": "3.9.7"
  },
  "orig_nbformat": 4,
  "vscode": {
   "interpreter": {
    "hash": "0d591c6e422414675974e227c13f5382000c440fedd3c5006ef2be5d887f0ba7"
   }
  }
 },
 "nbformat": 4,
 "nbformat_minor": 2
}
