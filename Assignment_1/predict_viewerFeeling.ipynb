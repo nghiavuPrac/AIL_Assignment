{
 "cells": [
  {
   "cell_type": "code",
   "execution_count": null,
   "metadata": {},
   "outputs": [],
   "source": [
    "import pandas as pd\n",
    "import numpy as np\n",
    "import matplotlib.pyplot as plt\n"
   ]
  },
  {
   "cell_type": "markdown",
   "metadata": {},
   "source": [
    "1. IMPORT DATASET"
   ]
  },
  {
   "cell_type": "code",
   "execution_count": null,
   "metadata": {},
   "outputs": [],
   "source": [
    "#a/ Load the data set\n",
    "df = pd.read_csv(\"Annotation_AllVideos_FPT_Ver1 - Main.csv\")\n",
    "df.head()"
   ]
  },
  {
   "cell_type": "code",
   "execution_count": null,
   "metadata": {},
   "outputs": [],
   "source": [
    "#b/ Select features\n",
    "data = df[[\"start time\",\"end time\",\"No. ingredients\",\"viewer feeling of youtuber's style \"]]"
   ]
  },
  {
   "cell_type": "code",
   "execution_count": null,
   "metadata": {},
   "outputs": [],
   "source": [
    "#convert start time and end time to seconds\n"
   ]
  },
  {
   "cell_type": "code",
   "execution_count": null,
   "metadata": {},
   "outputs": [],
   "source": [
    "\n",
    "#Drop Na and clean data\n",
    "data = data.apply (pd.to_numeric, errors='coerce')\n",
    "data = data.dropna()\n",
    "data = data.reset_index(drop=True)"
   ]
  },
  {
   "cell_type": "code",
   "execution_count": null,
   "metadata": {},
   "outputs": [],
   "source": [
    "data.head()"
   ]
  },
  {
   "cell_type": "code",
   "execution_count": null,
   "metadata": {},
   "outputs": [],
   "source": [
    "#Scaling data\n",
    "from sklearn.preprocessing import StandardScaler\n",
    "scaler = StandardScaler()\n",
    "scaled = scaler.fit_transform(data)"
   ]
  },
  {
   "cell_type": "code",
   "execution_count": null,
   "metadata": {},
   "outputs": [],
   "source": [
    "\n",
    "#c/ Split it into two parts: 70% of which you will use to train your model and the remaining data will be used to test the model.\n",
    "#\n",
    "from sklearn.model_selection import train_test_split\n",
    "x_train,x_test,y_train,y_test = train_test_split(x,y,test_size= 0.3,random_state=0)"
   ]
  },
  {
   "cell_type": "markdown",
   "metadata": {},
   "source": [
    "2. Summarize and Visualize the dataset."
   ]
  },
  {
   "cell_type": "markdown",
   "metadata": {},
   "source": [
    "3. Build linear regression model"
   ]
  },
  {
   "cell_type": "code",
   "execution_count": null,
   "metadata": {},
   "outputs": [],
   "source": [
    "#add collumn 1 in x\n",
    "x_train = np.hstack((np.ones((x_train.shape[0],1)),x_train))\n",
    "x_test = np.hstack((np.ones((x_test.shape[0],1)),x_test))"
   ]
  },
  {
   "cell_type": "code",
   "execution_count": null,
   "metadata": {},
   "outputs": [],
   "source": [
    "y_train = y_train.reshape(-1,1)\n",
    "y_test = y_test.reshape(-1,1)"
   ]
  },
  {
   "cell_type": "code",
   "execution_count": null,
   "metadata": {},
   "outputs": [],
   "source": [
    "\n",
    "# linear regression using \"mini-batch\" gradient descent\n",
    "# function to compute hypothesis / predictions\n",
    "def hypothesis(X, theta):\n",
    "    return np.dot(X, theta)\n",
    "  \n",
    "# function to compute gradient of error function w.r.t. theta\n",
    "def gradient(X, y, theta):\n",
    "    h = hypothesis(X, theta)\n",
    "    grad = np.dot(X.transpose(), (h - y))\n",
    "    return grad\n",
    "  \n",
    "# function to compute the error for current values of theta\n",
    "def cost(X, y, theta,m):\n",
    "    h = hypothesis(X, theta)\n",
    "    J = np.dot((h - y).transpose(), (h - y))\n",
    "    J /= (2 * m)\n",
    "    return J[0][0]\n",
    "  \n",
    "# function to create a list containing mini-batches\n",
    "def create_mini_batches(X, y, batch_size):\n",
    "    mini_batches = []\n",
    "    data = np.hstack((X, y))\n",
    "    np.random.shuffle(data)\n",
    "    n_minibatches = data.shape[0] // batch_size\n",
    "    i = 0\n",
    "  \n",
    "    for i in range(n_minibatches):\n",
    "        mini_batch = data[i * batch_size:(i + 1)*batch_size, :]\n",
    "        X_mini = mini_batch[:, :-1]\n",
    "        Y_mini = mini_batch[:, -1].reshape((-1, 1))\n",
    "        mini_batches.append((X_mini, Y_mini))\n",
    "    if data.shape[0] % batch_size != 0:\n",
    "        mini_batch = data[i * batch_size:data.shape[0]]\n",
    "        X_mini = mini_batch[:, :-1]\n",
    "        Y_mini = mini_batch[:, -1].reshape((-1, 1))\n",
    "        mini_batches.append((X_mini, Y_mini))\n",
    "    return mini_batches\n",
    "\n",
    "\n",
    "  \n",
    "# function to perform mini-batch gradient descent\n",
    "def gradientDescent(X, y, learning_rate = 0.05, batch_size = 500):\n",
    "    theta = np.zeros((X.shape[1], 1))\n",
    "    theta_list = []\n",
    "    cost_list = []\n",
    "    max_iters = 5\n",
    "    for itr in range(max_iters):\n",
    "        mini_batches = create_mini_batches(X, y, batch_size)\n",
    "        for mini_batch in mini_batches:\n",
    "            X_mini, y_mini = mini_batch\n",
    "            m = np.size(y_mini)\n",
    "            theta = theta - (learning_rate/m) * gradient(X_mini, y_mini, theta)            \n",
    "            cost_list.append(cost(X_mini, y_mini, theta,m))\n",
    "            theta_list.append(theta)\n",
    "    return  theta_list,cost_list"
   ]
  },
  {
   "cell_type": "code",
   "execution_count": null,
   "metadata": {},
   "outputs": [],
   "source": [
    "theta_list,cost_list = gradientDescent(x_train,y_train)\n",
    "i =cost_list.index(min(cost_list))\n",
    "print(\"Min Cost: \",cost_list[i])\n",
    "theta = theta_list[i]\n",
    "print(\"Coeficient: \",theta)\n"
   ]
  },
  {
   "cell_type": "markdown",
   "metadata": {},
   "source": [
    "4. Compare the results and make prediction"
   ]
  },
  {
   "cell_type": "code",
   "execution_count": null,
   "metadata": {},
   "outputs": [],
   "source": [
    "# caculate r with python linear regession model  \n",
    "from sklearn.linear_model import LinearRegression\n",
    "reg = LinearRegression().fit(x_train,y_train)\n",
    "reg.score(x_test,y_test)"
   ]
  },
  {
   "cell_type": "code",
   "execution_count": null,
   "metadata": {},
   "outputs": [],
   "source": [
    "# caculate r with the model above\n",
    "from sklearn.metrics import r2_score \n",
    "y_predict = hypothesis(x_test,theta)\n",
    "b = y_test\n",
    "R_square = r2_score(y_test, y_predict) \n",
    "print('Coefficient of Determination', R_square) "
   ]
  },
  {
   "cell_type": "code",
   "execution_count": null,
   "metadata": {},
   "outputs": [],
   "source": [
    "#plot result\n",
    "plt.figure(figsize=(15,10))\n",
    "plt.scatter(y_test,y_predict)\n",
    "plt.xlabel(\"Actual\")\n",
    "plt.ylabel(\"Predicted\")\n"
   ]
  },
  {
   "cell_type": "code",
   "execution_count": null,
   "metadata": {},
   "outputs": [],
   "source": [
    "#compare\n",
    "result = pd.DataFrame({'Actual Value':y_test.reshape(y_test.shape[0],),'Predicted Value':y_predict.reshape(y_predict.shape[0],),\"Difference\": (y_test - y_predict).reshape(y_test.shape[0])})\n",
    "result[0:20]"
   ]
  }
 ],
 "metadata": {
  "kernelspec": {
   "display_name": "Python 3.9.7 64-bit",
   "language": "python",
   "name": "python3"
  },
  "language_info": {
   "codemirror_mode": {
    "name": "ipython",
    "version": 3
   },
   "file_extension": ".py",
   "mimetype": "text/x-python",
   "name": "python",
   "nbconvert_exporter": "python",
   "pygments_lexer": "ipython3",
   "version": "3.9.7"
  },
  "orig_nbformat": 4,
  "vscode": {
   "interpreter": {
    "hash": "0d591c6e422414675974e227c13f5382000c440fedd3c5006ef2be5d887f0ba7"
   }
  }
 },
 "nbformat": 4,
 "nbformat_minor": 2
}
