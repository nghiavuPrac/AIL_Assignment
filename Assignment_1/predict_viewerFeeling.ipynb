{
 "cells": [
  {
   "cell_type": "code",
   "execution_count": 35,
   "metadata": {},
   "outputs": [],
   "source": [
    "import pandas as pd\n",
    "import numpy as np\n",
    "import matplotlib.pyplot as plt\n"
   ]
  },
  {
   "cell_type": "markdown",
   "metadata": {},
   "source": [
    "1. IMPORT DATASET"
   ]
  },
  {
   "cell_type": "code",
   "execution_count": 39,
   "metadata": {},
   "outputs": [
    {
     "ename": "ImportError",
     "evalue": "Missing optional dependency 'openpyxl'.  Use pip or conda to install openpyxl.",
     "output_type": "error",
     "traceback": [
      "\u001b[1;31m---------------------------------------------------------------------------\u001b[0m",
      "\u001b[1;31mModuleNotFoundError\u001b[0m                       Traceback (most recent call last)",
      "File \u001b[1;32m~\\AppData\\Roaming\\Python\\Python39\\site-packages\\pandas\\compat\\_optional.py:126\u001b[0m, in \u001b[0;36mimport_optional_dependency\u001b[1;34m(name, extra, errors, min_version)\u001b[0m\n\u001b[0;32m    125\u001b[0m \u001b[39mtry\u001b[39;00m:\n\u001b[1;32m--> 126\u001b[0m     module \u001b[39m=\u001b[39m importlib\u001b[39m.\u001b[39;49mimport_module(name)\n\u001b[0;32m    127\u001b[0m \u001b[39mexcept\u001b[39;00m \u001b[39mImportError\u001b[39;00m:\n",
      "File \u001b[1;32mc:\\Users\\Admin\\AppData\\Local\\Programs\\Python\\Python39\\lib\\importlib\\__init__.py:127\u001b[0m, in \u001b[0;36mimport_module\u001b[1;34m(name, package)\u001b[0m\n\u001b[0;32m    126\u001b[0m         level \u001b[39m+\u001b[39m\u001b[39m=\u001b[39m \u001b[39m1\u001b[39m\n\u001b[1;32m--> 127\u001b[0m \u001b[39mreturn\u001b[39;00m _bootstrap\u001b[39m.\u001b[39;49m_gcd_import(name[level:], package, level)\n",
      "File \u001b[1;32m<frozen importlib._bootstrap>:1030\u001b[0m, in \u001b[0;36m_gcd_import\u001b[1;34m(name, package, level)\u001b[0m\n",
      "File \u001b[1;32m<frozen importlib._bootstrap>:1007\u001b[0m, in \u001b[0;36m_find_and_load\u001b[1;34m(name, import_)\u001b[0m\n",
      "File \u001b[1;32m<frozen importlib._bootstrap>:984\u001b[0m, in \u001b[0;36m_find_and_load_unlocked\u001b[1;34m(name, import_)\u001b[0m\n",
      "\u001b[1;31mModuleNotFoundError\u001b[0m: No module named 'openpyxl'",
      "\nDuring handling of the above exception, another exception occurred:\n",
      "\u001b[1;31mImportError\u001b[0m                               Traceback (most recent call last)",
      "\u001b[1;32me:\\AIL_assignments\\Assignment_1\\predict_viewerFeeling.ipynb Cell 3'\u001b[0m in \u001b[0;36m<cell line: 2>\u001b[1;34m()\u001b[0m\n\u001b[0;32m      <a href='vscode-notebook-cell:/e%3A/AIL_assignments/Assignment_1/predict_viewerFeeling.ipynb#ch0000002?line=0'>1</a>\u001b[0m \u001b[39m#a/ Load the data set\u001b[39;00m\n\u001b[1;32m----> <a href='vscode-notebook-cell:/e%3A/AIL_assignments/Assignment_1/predict_viewerFeeling.ipynb#ch0000002?line=1'>2</a>\u001b[0m df \u001b[39m=\u001b[39m pd\u001b[39m.\u001b[39;49mread_excel(\u001b[39m\"\u001b[39;49m\u001b[39mE:\u001b[39;49m\u001b[39m\\\u001b[39;49m\u001b[39mAIL_assignments\u001b[39;49m\u001b[39m\\\u001b[39;49m\u001b[39mAssignment_1\u001b[39;49m\u001b[39m\\\u001b[39;49m\u001b[39mData_AIL.xlsx\u001b[39;49m\u001b[39m\"\u001b[39;49m)\n\u001b[0;32m      <a href='vscode-notebook-cell:/e%3A/AIL_assignments/Assignment_1/predict_viewerFeeling.ipynb#ch0000002?line=2'>3</a>\u001b[0m df\u001b[39m.\u001b[39mhead()\n",
      "File \u001b[1;32m~\\AppData\\Roaming\\Python\\Python39\\site-packages\\pandas\\util\\_decorators.py:311\u001b[0m, in \u001b[0;36mdeprecate_nonkeyword_arguments.<locals>.decorate.<locals>.wrapper\u001b[1;34m(*args, **kwargs)\u001b[0m\n\u001b[0;32m    305\u001b[0m \u001b[39mif\u001b[39;00m \u001b[39mlen\u001b[39m(args) \u001b[39m>\u001b[39m num_allow_args:\n\u001b[0;32m    306\u001b[0m     warnings\u001b[39m.\u001b[39mwarn(\n\u001b[0;32m    307\u001b[0m         msg\u001b[39m.\u001b[39mformat(arguments\u001b[39m=\u001b[39marguments),\n\u001b[0;32m    308\u001b[0m         \u001b[39mFutureWarning\u001b[39;00m,\n\u001b[0;32m    309\u001b[0m         stacklevel\u001b[39m=\u001b[39mstacklevel,\n\u001b[0;32m    310\u001b[0m     )\n\u001b[1;32m--> 311\u001b[0m \u001b[39mreturn\u001b[39;00m func(\u001b[39m*\u001b[39margs, \u001b[39m*\u001b[39m\u001b[39m*\u001b[39mkwargs)\n",
      "File \u001b[1;32m~\\AppData\\Roaming\\Python\\Python39\\site-packages\\pandas\\io\\excel\\_base.py:457\u001b[0m, in \u001b[0;36mread_excel\u001b[1;34m(io, sheet_name, header, names, index_col, usecols, squeeze, dtype, engine, converters, true_values, false_values, skiprows, nrows, na_values, keep_default_na, na_filter, verbose, parse_dates, date_parser, thousands, decimal, comment, skipfooter, convert_float, mangle_dupe_cols, storage_options)\u001b[0m\n\u001b[0;32m    455\u001b[0m \u001b[39mif\u001b[39;00m \u001b[39mnot\u001b[39;00m \u001b[39misinstance\u001b[39m(io, ExcelFile):\n\u001b[0;32m    456\u001b[0m     should_close \u001b[39m=\u001b[39m \u001b[39mTrue\u001b[39;00m\n\u001b[1;32m--> 457\u001b[0m     io \u001b[39m=\u001b[39m ExcelFile(io, storage_options\u001b[39m=\u001b[39;49mstorage_options, engine\u001b[39m=\u001b[39;49mengine)\n\u001b[0;32m    458\u001b[0m \u001b[39melif\u001b[39;00m engine \u001b[39mand\u001b[39;00m engine \u001b[39m!=\u001b[39m io\u001b[39m.\u001b[39mengine:\n\u001b[0;32m    459\u001b[0m     \u001b[39mraise\u001b[39;00m \u001b[39mValueError\u001b[39;00m(\n\u001b[0;32m    460\u001b[0m         \u001b[39m\"\u001b[39m\u001b[39mEngine should not be specified when passing \u001b[39m\u001b[39m\"\u001b[39m\n\u001b[0;32m    461\u001b[0m         \u001b[39m\"\u001b[39m\u001b[39man ExcelFile - ExcelFile already has the engine set\u001b[39m\u001b[39m\"\u001b[39m\n\u001b[0;32m    462\u001b[0m     )\n",
      "File \u001b[1;32m~\\AppData\\Roaming\\Python\\Python39\\site-packages\\pandas\\io\\excel\\_base.py:1419\u001b[0m, in \u001b[0;36mExcelFile.__init__\u001b[1;34m(self, path_or_buffer, engine, storage_options)\u001b[0m\n\u001b[0;32m   1416\u001b[0m \u001b[39mself\u001b[39m\u001b[39m.\u001b[39mengine \u001b[39m=\u001b[39m engine\n\u001b[0;32m   1417\u001b[0m \u001b[39mself\u001b[39m\u001b[39m.\u001b[39mstorage_options \u001b[39m=\u001b[39m storage_options\n\u001b[1;32m-> 1419\u001b[0m \u001b[39mself\u001b[39m\u001b[39m.\u001b[39m_reader \u001b[39m=\u001b[39m \u001b[39mself\u001b[39;49m\u001b[39m.\u001b[39;49m_engines[engine](\u001b[39mself\u001b[39;49m\u001b[39m.\u001b[39;49m_io, storage_options\u001b[39m=\u001b[39;49mstorage_options)\n",
      "File \u001b[1;32m~\\AppData\\Roaming\\Python\\Python39\\site-packages\\pandas\\io\\excel\\_openpyxl.py:524\u001b[0m, in \u001b[0;36mOpenpyxlReader.__init__\u001b[1;34m(self, filepath_or_buffer, storage_options)\u001b[0m\n\u001b[0;32m    509\u001b[0m \u001b[39mdef\u001b[39;00m \u001b[39m__init__\u001b[39m(\n\u001b[0;32m    510\u001b[0m     \u001b[39mself\u001b[39m,\n\u001b[0;32m    511\u001b[0m     filepath_or_buffer: FilePath \u001b[39m|\u001b[39m ReadBuffer[\u001b[39mbytes\u001b[39m],\n\u001b[0;32m    512\u001b[0m     storage_options: StorageOptions \u001b[39m=\u001b[39m \u001b[39mNone\u001b[39;00m,\n\u001b[0;32m    513\u001b[0m ) \u001b[39m-\u001b[39m\u001b[39m>\u001b[39m \u001b[39mNone\u001b[39;00m:\n\u001b[0;32m    514\u001b[0m     \u001b[39m\"\"\"\u001b[39;00m\n\u001b[0;32m    515\u001b[0m \u001b[39m    Reader using openpyxl engine.\u001b[39;00m\n\u001b[0;32m    516\u001b[0m \n\u001b[1;32m   (...)\u001b[0m\n\u001b[0;32m    522\u001b[0m \u001b[39m        passed to fsspec for appropriate URLs (see ``_get_filepath_or_buffer``)\u001b[39;00m\n\u001b[0;32m    523\u001b[0m \u001b[39m    \"\"\"\u001b[39;00m\n\u001b[1;32m--> 524\u001b[0m     import_optional_dependency(\u001b[39m\"\u001b[39;49m\u001b[39mopenpyxl\u001b[39;49m\u001b[39m\"\u001b[39;49m)\n\u001b[0;32m    525\u001b[0m     \u001b[39msuper\u001b[39m()\u001b[39m.\u001b[39m\u001b[39m__init__\u001b[39m(filepath_or_buffer, storage_options\u001b[39m=\u001b[39mstorage_options)\n",
      "File \u001b[1;32m~\\AppData\\Roaming\\Python\\Python39\\site-packages\\pandas\\compat\\_optional.py:129\u001b[0m, in \u001b[0;36mimport_optional_dependency\u001b[1;34m(name, extra, errors, min_version)\u001b[0m\n\u001b[0;32m    127\u001b[0m \u001b[39mexcept\u001b[39;00m \u001b[39mImportError\u001b[39;00m:\n\u001b[0;32m    128\u001b[0m     \u001b[39mif\u001b[39;00m errors \u001b[39m==\u001b[39m \u001b[39m\"\u001b[39m\u001b[39mraise\u001b[39m\u001b[39m\"\u001b[39m:\n\u001b[1;32m--> 129\u001b[0m         \u001b[39mraise\u001b[39;00m \u001b[39mImportError\u001b[39;00m(msg)\n\u001b[0;32m    130\u001b[0m     \u001b[39melse\u001b[39;00m:\n\u001b[0;32m    131\u001b[0m         \u001b[39mreturn\u001b[39;00m \u001b[39mNone\u001b[39;00m\n",
      "\u001b[1;31mImportError\u001b[0m: Missing optional dependency 'openpyxl'.  Use pip or conda to install openpyxl."
     ]
    }
   ],
   "source": [
    "#a/ Load the data set\n",
    "df = pd.read_excel(\"E:\\AIL_assignments\\Assignment_1\\Data_AIL.xlsx\")\n",
    "df.head()"
   ]
  },
  {
   "cell_type": "code",
   "execution_count": 30,
   "metadata": {},
   "outputs": [
    {
     "data": {
      "text/html": [
       "<div>\n",
       "<style scoped>\n",
       "    .dataframe tbody tr th:only-of-type {\n",
       "        vertical-align: middle;\n",
       "    }\n",
       "\n",
       "    .dataframe tbody tr th {\n",
       "        vertical-align: top;\n",
       "    }\n",
       "\n",
       "    .dataframe thead th {\n",
       "        text-align: right;\n",
       "    }\n",
       "</style>\n",
       "<table border=\"1\" class=\"dataframe\">\n",
       "  <thead>\n",
       "    <tr style=\"text-align: right;\">\n",
       "      <th></th>\n",
       "      <th>start time</th>\n",
       "      <th>end time</th>\n",
       "      <th>No. Ingredients</th>\n",
       "      <th>viewer feeling of youtuber's style</th>\n",
       "    </tr>\n",
       "  </thead>\n",
       "  <tbody>\n",
       "    <tr>\n",
       "      <th>2795</th>\n",
       "      <td>7:05</td>\n",
       "      <td>7:24</td>\n",
       "      <td>1</td>\n",
       "      <td>5</td>\n",
       "    </tr>\n",
       "  </tbody>\n",
       "</table>\n",
       "</div>"
      ],
      "text/plain": [
       "     start time end time  No. Ingredients viewer feeling of youtuber's style \n",
       "2795       7:05     7:24                1                                   5"
      ]
     },
     "execution_count": 30,
     "metadata": {},
     "output_type": "execute_result"
    }
   ],
   "source": [
    "#b/ Select features\n",
    "data = df[[\"start time\",\"end time\",\"No. Ingredients\",\"viewer feeling of youtuber's style \"]]"
   ]
  },
  {
   "cell_type": "code",
   "execution_count": 32,
   "metadata": {},
   "outputs": [
    {
     "data": {
      "text/html": [
       "<div>\n",
       "<style scoped>\n",
       "    .dataframe tbody tr th:only-of-type {\n",
       "        vertical-align: middle;\n",
       "    }\n",
       "\n",
       "    .dataframe tbody tr th {\n",
       "        vertical-align: top;\n",
       "    }\n",
       "\n",
       "    .dataframe thead th {\n",
       "        text-align: right;\n",
       "    }\n",
       "</style>\n",
       "<table border=\"1\" class=\"dataframe\">\n",
       "  <thead>\n",
       "    <tr style=\"text-align: right;\">\n",
       "      <th></th>\n",
       "      <th>No. Ingredients</th>\n",
       "    </tr>\n",
       "  </thead>\n",
       "  <tbody>\n",
       "    <tr>\n",
       "      <th>count</th>\n",
       "      <td>3850.000000</td>\n",
       "    </tr>\n",
       "    <tr>\n",
       "      <th>mean</th>\n",
       "      <td>3.213506</td>\n",
       "    </tr>\n",
       "    <tr>\n",
       "      <th>std</th>\n",
       "      <td>2.812791</td>\n",
       "    </tr>\n",
       "    <tr>\n",
       "      <th>min</th>\n",
       "      <td>0.000000</td>\n",
       "    </tr>\n",
       "    <tr>\n",
       "      <th>25%</th>\n",
       "      <td>1.000000</td>\n",
       "    </tr>\n",
       "    <tr>\n",
       "      <th>50%</th>\n",
       "      <td>3.000000</td>\n",
       "    </tr>\n",
       "    <tr>\n",
       "      <th>75%</th>\n",
       "      <td>5.000000</td>\n",
       "    </tr>\n",
       "    <tr>\n",
       "      <th>max</th>\n",
       "      <td>20.000000</td>\n",
       "    </tr>\n",
       "  </tbody>\n",
       "</table>\n",
       "</div>"
      ],
      "text/plain": [
       "       No. Ingredients\n",
       "count      3850.000000\n",
       "mean          3.213506\n",
       "std           2.812791\n",
       "min           0.000000\n",
       "25%           1.000000\n",
       "50%           3.000000\n",
       "75%           5.000000\n",
       "max          20.000000"
      ]
     },
     "execution_count": 32,
     "metadata": {},
     "output_type": "execute_result"
    }
   ],
   "source": [
    "data.describe()"
   ]
  },
  {
   "cell_type": "code",
   "execution_count": 33,
   "metadata": {},
   "outputs": [
    {
     "data": {
      "text/html": [
       "<div>\n",
       "<style scoped>\n",
       "    .dataframe tbody tr th:only-of-type {\n",
       "        vertical-align: middle;\n",
       "    }\n",
       "\n",
       "    .dataframe tbody tr th {\n",
       "        vertical-align: top;\n",
       "    }\n",
       "\n",
       "    .dataframe thead th {\n",
       "        text-align: right;\n",
       "    }\n",
       "</style>\n",
       "<table border=\"1\" class=\"dataframe\">\n",
       "  <thead>\n",
       "    <tr style=\"text-align: right;\">\n",
       "      <th></th>\n",
       "      <th>No. Ingredients</th>\n",
       "    </tr>\n",
       "  </thead>\n",
       "  <tbody>\n",
       "    <tr>\n",
       "      <th>count</th>\n",
       "      <td>3771.000000</td>\n",
       "    </tr>\n",
       "    <tr>\n",
       "      <th>mean</th>\n",
       "      <td>3.279236</td>\n",
       "    </tr>\n",
       "    <tr>\n",
       "      <th>std</th>\n",
       "      <td>2.804457</td>\n",
       "    </tr>\n",
       "    <tr>\n",
       "      <th>min</th>\n",
       "      <td>0.000000</td>\n",
       "    </tr>\n",
       "    <tr>\n",
       "      <th>25%</th>\n",
       "      <td>1.000000</td>\n",
       "    </tr>\n",
       "    <tr>\n",
       "      <th>50%</th>\n",
       "      <td>3.000000</td>\n",
       "    </tr>\n",
       "    <tr>\n",
       "      <th>75%</th>\n",
       "      <td>5.000000</td>\n",
       "    </tr>\n",
       "    <tr>\n",
       "      <th>max</th>\n",
       "      <td>20.000000</td>\n",
       "    </tr>\n",
       "  </tbody>\n",
       "</table>\n",
       "</div>"
      ],
      "text/plain": [
       "       No. Ingredients\n",
       "count      3771.000000\n",
       "mean          3.279236\n",
       "std           2.804457\n",
       "min           0.000000\n",
       "25%           1.000000\n",
       "50%           3.000000\n",
       "75%           5.000000\n",
       "max          20.000000"
      ]
     },
     "execution_count": 33,
     "metadata": {},
     "output_type": "execute_result"
    }
   ],
   "source": [
    "data= data.dropna(axis= 0)\n",
    "data.describe()"
   ]
  },
  {
   "cell_type": "code",
   "execution_count": 23,
   "metadata": {},
   "outputs": [],
   "source": [
    "# convert start time and end time to seconds\n",
    "import re\n",
    "def __check_value_time(hours=0, minutes=0, seconds=0):\n",
    "    # print('Time out: 'hours, minutes, seconds)\n",
    "    if hours > 24:\n",
    "        print('Time error: ',hours, minutes, seconds)\n",
    "        raise ValueError('Hour is out of range')\n",
    "\n",
    "    if seconds > 60:\n",
    "        print('Time error: ',hours, minutes, seconds)\n",
    "        raise ValueError('Second is out of range')\n",
    "\n",
    "    if minutes > 60:\n",
    "        print('Time error: ',hours, minutes, seconds)\n",
    "        raise ValueError('Minutes is out of range')\n",
    "\n",
    "def process_time_str(time_str):\n",
    "    time_data = re.findall('[0-9]?[0-9]', time_str)\n",
    "    TIME_WITH_HOUR = 3\n",
    "    TIME_WITH_MINUTES = 2\n",
    "    TIME_WITH_SECONDS = 1\n",
    "    MAX_SECONDS = 90060\n",
    "    # print(time_data)\n",
    "    if len(time_data) == TIME_WITH_HOUR:\n",
    "        hours = int(time_data[0])\n",
    "        minutes = int(time_data[1])\n",
    "        seconds = int(time_data[2])\n",
    "\n",
    "        __check_value_time(hours, seconds, minutes)\n",
    "\n",
    "        return (hours*3600 + minutes*60 + seconds)\n",
    "    if len(time_data) == TIME_WITH_MINUTES:\n",
    "        minutes = int(time_data[0])\n",
    "        seconds = int(time_data[1])\n",
    "\n",
    "        __check_value_time(minutes=minutes, seconds=seconds)\n",
    "\n",
    "        return (minutes*60 + seconds)\n",
    "    if len(time_data) == TIME_WITH_SECONDS:\n",
    "        seconds = int(time_data[0])\n",
    "\n",
    "        __check_value_time(seconds=seconds)\n",
    "\n",
    "        return seconds"
   ]
  },
  {
   "cell_type": "code",
   "execution_count": 26,
   "metadata": {},
   "outputs": [
    {
     "name": "stdout",
     "output_type": "stream",
     "text": [
      "Time error:  31 0 44\n"
     ]
    },
    {
     "ename": "ValueError",
     "evalue": "Hour is out of range",
     "output_type": "error",
     "traceback": [
      "\u001b[1;31m---------------------------------------------------------------------------\u001b[0m",
      "\u001b[1;31mValueError\u001b[0m                                Traceback (most recent call last)",
      "\u001b[1;32me:\\AIL_assignments\\Assignment_1\\predict_viewerFeeling.ipynb Cell 7'\u001b[0m in \u001b[0;36m<cell line: 19>\u001b[1;34m()\u001b[0m\n\u001b[0;32m     <a href='vscode-notebook-cell:/e%3A/AIL_assignments/Assignment_1/predict_viewerFeeling.ipynb#ch0000024?line=16'>17</a>\u001b[0m df_time \u001b[39m=\u001b[39m \u001b[39mlist\u001b[39m()\n\u001b[0;32m     <a href='vscode-notebook-cell:/e%3A/AIL_assignments/Assignment_1/predict_viewerFeeling.ipynb#ch0000024?line=18'>19</a>\u001b[0m \u001b[39mfor\u001b[39;00m start_time, end_time \u001b[39min\u001b[39;00m \u001b[39mzip\u001b[39m(data[\u001b[39m'\u001b[39m\u001b[39mstart time\u001b[39m\u001b[39m'\u001b[39m], data[\u001b[39m'\u001b[39m\u001b[39mend time\u001b[39m\u001b[39m'\u001b[39m]):\n\u001b[1;32m---> <a href='vscode-notebook-cell:/e%3A/AIL_assignments/Assignment_1/predict_viewerFeeling.ipynb#ch0000024?line=19'>20</a>\u001b[0m     df_time\u001b[39m.\u001b[39mappend((process_time_str(start_time), process_time_str(end_time)))\n\u001b[0;32m     <a href='vscode-notebook-cell:/e%3A/AIL_assignments/Assignment_1/predict_viewerFeeling.ipynb#ch0000024?line=21'>22</a>\u001b[0m data[[\u001b[39m'\u001b[39m\u001b[39mstart time\u001b[39m\u001b[39m'\u001b[39m, \u001b[39m'\u001b[39m\u001b[39mend time\u001b[39m\u001b[39m'\u001b[39m]] \u001b[39m=\u001b[39m df_time\n\u001b[0;32m     <a href='vscode-notebook-cell:/e%3A/AIL_assignments/Assignment_1/predict_viewerFeeling.ipynb#ch0000024?line=22'>23</a>\u001b[0m data[\u001b[39m\"\u001b[39m\u001b[39mviewer feeling of youtuber\u001b[39m\u001b[39m'\u001b[39m\u001b[39ms style \u001b[39m\u001b[39m\"\u001b[39m] \u001b[39m=\u001b[39m data[\u001b[39m\"\u001b[39m\u001b[39mviewer feeling of youtuber\u001b[39m\u001b[39m'\u001b[39m\u001b[39ms style \u001b[39m\u001b[39m\"\u001b[39m]\u001b[39m.\u001b[39mastype(\u001b[39m'\u001b[39m\u001b[39mint\u001b[39m\u001b[39m'\u001b[39m)\n",
      "\u001b[1;32me:\\AIL_assignments\\Assignment_1\\predict_viewerFeeling.ipynb Cell 6'\u001b[0m in \u001b[0;36mprocess_time_str\u001b[1;34m(time_str)\u001b[0m\n\u001b[0;32m     <a href='vscode-notebook-cell:/e%3A/AIL_assignments/Assignment_1/predict_viewerFeeling.ipynb#ch0000028?line=25'>26</a>\u001b[0m     minutes \u001b[39m=\u001b[39m \u001b[39mint\u001b[39m(time_data[\u001b[39m1\u001b[39m])\n\u001b[0;32m     <a href='vscode-notebook-cell:/e%3A/AIL_assignments/Assignment_1/predict_viewerFeeling.ipynb#ch0000028?line=26'>27</a>\u001b[0m     seconds \u001b[39m=\u001b[39m \u001b[39mint\u001b[39m(time_data[\u001b[39m2\u001b[39m])\n\u001b[1;32m---> <a href='vscode-notebook-cell:/e%3A/AIL_assignments/Assignment_1/predict_viewerFeeling.ipynb#ch0000028?line=28'>29</a>\u001b[0m     __check_value_time(hours, seconds, minutes)\n\u001b[0;32m     <a href='vscode-notebook-cell:/e%3A/AIL_assignments/Assignment_1/predict_viewerFeeling.ipynb#ch0000028?line=30'>31</a>\u001b[0m     \u001b[39mreturn\u001b[39;00m (hours\u001b[39m*\u001b[39m\u001b[39m3600\u001b[39m \u001b[39m+\u001b[39m minutes\u001b[39m*\u001b[39m\u001b[39m60\u001b[39m \u001b[39m+\u001b[39m seconds)\n\u001b[0;32m     <a href='vscode-notebook-cell:/e%3A/AIL_assignments/Assignment_1/predict_viewerFeeling.ipynb#ch0000028?line=31'>32</a>\u001b[0m \u001b[39mif\u001b[39;00m \u001b[39mlen\u001b[39m(time_data) \u001b[39m==\u001b[39m TIME_WITH_MINUTES:\n",
      "\u001b[1;32me:\\AIL_assignments\\Assignment_1\\predict_viewerFeeling.ipynb Cell 6'\u001b[0m in \u001b[0;36m__check_value_time\u001b[1;34m(hours, minutes, seconds)\u001b[0m\n\u001b[0;32m      <a href='vscode-notebook-cell:/e%3A/AIL_assignments/Assignment_1/predict_viewerFeeling.ipynb#ch0000028?line=4'>5</a>\u001b[0m \u001b[39mif\u001b[39;00m hours \u001b[39m>\u001b[39m \u001b[39m24\u001b[39m:\n\u001b[0;32m      <a href='vscode-notebook-cell:/e%3A/AIL_assignments/Assignment_1/predict_viewerFeeling.ipynb#ch0000028?line=5'>6</a>\u001b[0m     \u001b[39mprint\u001b[39m(\u001b[39m'\u001b[39m\u001b[39mTime error: \u001b[39m\u001b[39m'\u001b[39m,hours, minutes, seconds)\n\u001b[1;32m----> <a href='vscode-notebook-cell:/e%3A/AIL_assignments/Assignment_1/predict_viewerFeeling.ipynb#ch0000028?line=6'>7</a>\u001b[0m     \u001b[39mraise\u001b[39;00m \u001b[39mValueError\u001b[39;00m(\u001b[39m'\u001b[39m\u001b[39mHour is out of range\u001b[39m\u001b[39m'\u001b[39m)\n\u001b[0;32m      <a href='vscode-notebook-cell:/e%3A/AIL_assignments/Assignment_1/predict_viewerFeeling.ipynb#ch0000028?line=8'>9</a>\u001b[0m \u001b[39mif\u001b[39;00m seconds \u001b[39m>\u001b[39m \u001b[39m60\u001b[39m:\n\u001b[0;32m     <a href='vscode-notebook-cell:/e%3A/AIL_assignments/Assignment_1/predict_viewerFeeling.ipynb#ch0000028?line=9'>10</a>\u001b[0m     \u001b[39mprint\u001b[39m(\u001b[39m'\u001b[39m\u001b[39mTime error: \u001b[39m\u001b[39m'\u001b[39m,hours, minutes, seconds)\n",
      "\u001b[1;31mValueError\u001b[0m: Hour is out of range"
     ]
    }
   ],
   "source": [
    "index_data = list()\n",
    "for str_time in data['start time']:\n",
    "    if str_time[0].isdigit() and str_time[-1].isdigit():\n",
    "        index_data.append(True)\n",
    "    else:\n",
    "        index_data.append(False)\n",
    "\n",
    "data = data[index_data]\n",
    "\n",
    "index_data = list()\n",
    "for str_time in data['end time']:\n",
    "    if str_time[0].isdigit() and str_time[-1].isdigit():\n",
    "        index_data.append(True)\n",
    "    else:\n",
    "        index_data.append(False)\n",
    "data = data[index_data]\n",
    "df_time = list()\n",
    "\n",
    "for start_time, end_time in zip(data['start time'], data['end time']):\n",
    "    df_time.append((process_time_str(start_time), process_time_str(end_time)))\n",
    "\n",
    "data[['start time', 'end time']] = df_time\n",
    "data[\"viewer feeling of youtuber's style \"] = data[\"viewer feeling of youtuber's style \"].astype('int')\n"
   ]
  },
  {
   "cell_type": "code",
   "execution_count": 34,
   "metadata": {},
   "outputs": [
    {
     "data": {
      "text/html": [
       "<div>\n",
       "<style scoped>\n",
       "    .dataframe tbody tr th:only-of-type {\n",
       "        vertical-align: middle;\n",
       "    }\n",
       "\n",
       "    .dataframe tbody tr th {\n",
       "        vertical-align: top;\n",
       "    }\n",
       "\n",
       "    .dataframe thead th {\n",
       "        text-align: right;\n",
       "    }\n",
       "</style>\n",
       "<table border=\"1\" class=\"dataframe\">\n",
       "  <thead>\n",
       "    <tr style=\"text-align: right;\">\n",
       "      <th></th>\n",
       "      <th>start time</th>\n",
       "      <th>end time</th>\n",
       "      <th>No. Ingredients</th>\n",
       "      <th>viewer feeling of youtuber's style</th>\n",
       "    </tr>\n",
       "  </thead>\n",
       "  <tbody>\n",
       "    <tr>\n",
       "      <th>0</th>\n",
       "      <td>1:05</td>\n",
       "      <td>3:21</td>\n",
       "      <td>9</td>\n",
       "      <td>4</td>\n",
       "    </tr>\n",
       "    <tr>\n",
       "      <th>1</th>\n",
       "      <td>3:32</td>\n",
       "      <td>6:10</td>\n",
       "      <td>11</td>\n",
       "      <td>4</td>\n",
       "    </tr>\n",
       "    <tr>\n",
       "      <th>2</th>\n",
       "      <td>5:23</td>\n",
       "      <td>6:10</td>\n",
       "      <td>4</td>\n",
       "      <td>5</td>\n",
       "    </tr>\n",
       "    <tr>\n",
       "      <th>3</th>\n",
       "      <td>6:22</td>\n",
       "      <td>9:23</td>\n",
       "      <td>5</td>\n",
       "      <td>5</td>\n",
       "    </tr>\n",
       "    <tr>\n",
       "      <th>4</th>\n",
       "      <td>9:42</td>\n",
       "      <td>11:55</td>\n",
       "      <td>4</td>\n",
       "      <td>4</td>\n",
       "    </tr>\n",
       "  </tbody>\n",
       "</table>\n",
       "</div>"
      ],
      "text/plain": [
       "  start time end time  No. Ingredients viewer feeling of youtuber's style \n",
       "0       1:05     3:21                9                                   4\n",
       "1       3:32     6:10               11                                   4\n",
       "2       5:23     6:10                4                                   5\n",
       "3       6:22     9:23                5                                   5\n",
       "4       9:42    11:55                4                                   4"
      ]
     },
     "execution_count": 34,
     "metadata": {},
     "output_type": "execute_result"
    }
   ],
   "source": [
    "data.head()"
   ]
  },
  {
   "cell_type": "code",
   "execution_count": null,
   "metadata": {},
   "outputs": [],
   "source": []
  },
  {
   "cell_type": "code",
   "execution_count": null,
   "metadata": {},
   "outputs": [],
   "source": [
    "#Scaling data\n",
    "from sklearn.preprocessing import StandardScaler\n",
    "scaler = StandardScaler()\n",
    "scaled = scaler.fit_transform(data)"
   ]
  },
  {
   "cell_type": "code",
   "execution_count": null,
   "metadata": {},
   "outputs": [],
   "source": [
    "\n",
    "#c/ Split it into two parts: 70% of which you will use to train your model and the remaining data will be used to test the model.\n",
    "#\n",
    "from sklearn.model_selection import train_test_split\n",
    "x_train,x_test,y_train,y_test = train_test_split(x,y,test_size= 0.3,random_state=0)"
   ]
  },
  {
   "cell_type": "markdown",
   "metadata": {},
   "source": [
    "2. Summarize and Visualize the dataset."
   ]
  },
  {
   "cell_type": "markdown",
   "metadata": {},
   "source": [
    "3. Build linear regression model"
   ]
  },
  {
   "cell_type": "code",
   "execution_count": null,
   "metadata": {},
   "outputs": [],
   "source": [
    "#add collumn 1 in x\n",
    "x_train = np.hstack((np.ones((x_train.shape[0],1)),x_train))\n",
    "x_test = np.hstack((np.ones((x_test.shape[0],1)),x_test))"
   ]
  },
  {
   "cell_type": "code",
   "execution_count": null,
   "metadata": {},
   "outputs": [],
   "source": [
    "y_train = y_train.reshape(-1,1)\n",
    "y_test = y_test.reshape(-1,1)"
   ]
  },
  {
   "cell_type": "code",
   "execution_count": null,
   "metadata": {},
   "outputs": [],
   "source": [
    "\n",
    "# linear regression using \"mini-batch\" gradient descent\n",
    "# function to compute hypothesis / predictions\n",
    "def hypothesis(X, theta):\n",
    "    return np.dot(X, theta)\n",
    "  \n",
    "# function to compute gradient of error function w.r.t. theta\n",
    "def gradient(X, y, theta):\n",
    "    h = hypothesis(X, theta)\n",
    "    grad = np.dot(X.transpose(), (h - y))\n",
    "    return grad\n",
    "  \n",
    "# function to compute the error for current values of theta\n",
    "def cost(X, y, theta,m):\n",
    "    h = hypothesis(X, theta)\n",
    "    J = np.dot((h - y).transpose(), (h - y))\n",
    "    J /= (2 * m)\n",
    "    return J[0][0]\n",
    "  \n",
    "# function to create a list containing mini-batches\n",
    "def create_mini_batches(X, y, batch_size):\n",
    "    mini_batches = []\n",
    "    data = np.hstack((X, y))\n",
    "    np.random.shuffle(data)\n",
    "    n_minibatches = data.shape[0] // batch_size\n",
    "    i = 0\n",
    "  \n",
    "    for i in range(n_minibatches):\n",
    "        mini_batch = data[i * batch_size:(i + 1)*batch_size, :]\n",
    "        X_mini = mini_batch[:, :-1]\n",
    "        Y_mini = mini_batch[:, -1].reshape((-1, 1))\n",
    "        mini_batches.append((X_mini, Y_mini))\n",
    "    if data.shape[0] % batch_size != 0:\n",
    "        mini_batch = data[i * batch_size:data.shape[0]]\n",
    "        X_mini = mini_batch[:, :-1]\n",
    "        Y_mini = mini_batch[:, -1].reshape((-1, 1))\n",
    "        mini_batches.append((X_mini, Y_mini))\n",
    "    return mini_batches\n",
    "\n",
    "\n",
    "  \n",
    "# function to perform mini-batch gradient descent\n",
    "def gradientDescent(X, y, learning_rate = 0.05, batch_size = 500):\n",
    "    theta = np.zeros((X.shape[1], 1))\n",
    "    theta_list = []\n",
    "    cost_list = []\n",
    "    max_iters = 5\n",
    "    for itr in range(max_iters):\n",
    "        mini_batches = create_mini_batches(X, y, batch_size)\n",
    "        for mini_batch in mini_batches:\n",
    "            X_mini, y_mini = mini_batch\n",
    "            m = np.size(y_mini)\n",
    "            theta = theta - (learning_rate/m) * gradient(X_mini, y_mini, theta)            \n",
    "            cost_list.append(cost(X_mini, y_mini, theta,m))\n",
    "            theta_list.append(theta)\n",
    "    return  theta_list,cost_list"
   ]
  },
  {
   "cell_type": "code",
   "execution_count": null,
   "metadata": {},
   "outputs": [],
   "source": [
    "theta_list,cost_list = gradientDescent(x_train,y_train)\n",
    "i =cost_list.index(min(cost_list))\n",
    "print(\"Min Cost: \",cost_list[i])\n",
    "theta = theta_list[i]\n",
    "print(\"Coeficient: \",theta)\n"
   ]
  },
  {
   "cell_type": "markdown",
   "metadata": {},
   "source": [
    "4. Compare the results and make prediction"
   ]
  },
  {
   "cell_type": "code",
   "execution_count": null,
   "metadata": {},
   "outputs": [],
   "source": [
    "# caculate r with python linear regession model  \n",
    "from sklearn.linear_model import LinearRegression\n",
    "reg = LinearRegression().fit(x_train,y_train)\n",
    "reg.score(x_test,y_test)"
   ]
  },
  {
   "cell_type": "code",
   "execution_count": null,
   "metadata": {},
   "outputs": [],
   "source": [
    "# caculate r with the model above\n",
    "from sklearn.metrics import r2_score \n",
    "y_predict = hypothesis(x_test,theta)\n",
    "b = y_test\n",
    "R_square = r2_score(y_test, y_predict) \n",
    "print('Coefficient of Determination', R_square) "
   ]
  },
  {
   "cell_type": "code",
   "execution_count": null,
   "metadata": {},
   "outputs": [],
   "source": [
    "#plot result\n",
    "plt.figure(figsize=(15,10))\n",
    "plt.scatter(y_test,y_predict)\n",
    "plt.xlabel(\"Actual\")\n",
    "plt.ylabel(\"Predicted\")\n"
   ]
  },
  {
   "cell_type": "code",
   "execution_count": null,
   "metadata": {},
   "outputs": [],
   "source": [
    "#compare\n",
    "result = pd.DataFrame({'Actual Value':y_test.reshape(y_test.shape[0],),'Predicted Value':y_predict.reshape(y_predict.shape[0],),\"Difference\": (y_test - y_predict).reshape(y_test.shape[0])})\n",
    "result[0:20]"
   ]
  }
 ],
 "metadata": {
  "kernelspec": {
   "display_name": "Python 3.9.7 64-bit",
   "language": "python",
   "name": "python3"
  },
  "language_info": {
   "codemirror_mode": {
    "name": "ipython",
    "version": 3
   },
   "file_extension": ".py",
   "mimetype": "text/x-python",
   "name": "python",
   "nbconvert_exporter": "python",
   "pygments_lexer": "ipython3",
   "version": "3.9.7"
  },
  "orig_nbformat": 4,
  "vscode": {
   "interpreter": {
    "hash": "0d591c6e422414675974e227c13f5382000c440fedd3c5006ef2be5d887f0ba7"
   }
  }
 },
 "nbformat": 4,
 "nbformat_minor": 2
}
