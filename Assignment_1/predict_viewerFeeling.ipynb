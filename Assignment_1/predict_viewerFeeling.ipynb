{
 "cells": [
  {
   "cell_type": "code",
   "execution_count": 118,
   "metadata": {},
   "outputs": [],
   "source": [
    "from mpl_toolkits.mplot3d import Axes3D\n",
    "from sklearn.preprocessing import StandardScaler\n",
    "from sklearn.preprocessing import LabelEncoder\n",
    "import seaborn as sns\n",
    "import matplotlib.pyplot as plt # plotting\n",
    "import numpy as np # linear algebra\n",
    "import os # accessing directory structure\n",
    "import pandas as pd # data processing, CSV file I/O (e.g. pd.read_csv)\n",
    "import matplotlib.pyplot as plt"
   ]
  },
  {
   "cell_type": "markdown",
   "metadata": {},
   "source": [
    "1. IMPORT DATASET"
   ]
  },
  {
   "cell_type": "code",
   "execution_count": 119,
   "metadata": {},
   "outputs": [
    {
     "data": {
      "text/html": [
       "<div>\n",
       "<style scoped>\n",
       "    .dataframe tbody tr th:only-of-type {\n",
       "        vertical-align: middle;\n",
       "    }\n",
       "\n",
       "    .dataframe tbody tr th {\n",
       "        vertical-align: top;\n",
       "    }\n",
       "\n",
       "    .dataframe thead th {\n",
       "        text-align: right;\n",
       "    }\n",
       "</style>\n",
       "<table border=\"1\" class=\"dataframe\">\n",
       "  <thead>\n",
       "    <tr style=\"text-align: right;\">\n",
       "      <th></th>\n",
       "      <th>e</th>\n",
       "      <th>no. video</th>\n",
       "      <th>Student ID</th>\n",
       "      <th>Full name</th>\n",
       "      <th>id</th>\n",
       "      <th>standardized dish</th>\n",
       "      <th>dish occurence (based on transcript)</th>\n",
       "      <th>dish imply</th>\n",
       "      <th>start time</th>\n",
       "      <th>end time</th>\n",
       "      <th>...</th>\n",
       "      <th>sauce (based on transcript)</th>\n",
       "      <th>venue</th>\n",
       "      <th>container</th>\n",
       "      <th>describe how to make it</th>\n",
       "      <th>viewer feeling of youtuber's style</th>\n",
       "      <th>viewer feeling of presented food</th>\n",
       "      <th>YouTuber feeling</th>\n",
       "      <th>location</th>\n",
       "      <th>foreigner</th>\n",
       "      <th>Unnamed: 24</th>\n",
       "    </tr>\n",
       "  </thead>\n",
       "  <tbody>\n",
       "    <tr>\n",
       "      <th>0</th>\n",
       "      <td>1.0</td>\n",
       "      <td>51.0</td>\n",
       "      <td>NaN</td>\n",
       "      <td>NaN</td>\n",
       "      <td>5OzrpNCyXqs</td>\n",
       "      <td>snail vermicelli soup</td>\n",
       "      <td>bun oc</td>\n",
       "      <td>NaN</td>\n",
       "      <td>1:05</td>\n",
       "      <td>3:21</td>\n",
       "      <td>...</td>\n",
       "      <td>NaN</td>\n",
       "      <td>street restaurant</td>\n",
       "      <td>bowl</td>\n",
       "      <td>1.0</td>\n",
       "      <td>4.0</td>\n",
       "      <td>NaN</td>\n",
       "      <td>5.0</td>\n",
       "      <td>HN</td>\n",
       "      <td>1.0</td>\n",
       "      <td>NaN</td>\n",
       "    </tr>\n",
       "    <tr>\n",
       "      <th>1</th>\n",
       "      <td>2.0</td>\n",
       "      <td>51.0</td>\n",
       "      <td>NaN</td>\n",
       "      <td>NaN</td>\n",
       "      <td>5OzrpNCyXqs</td>\n",
       "      <td>vermicelli with fried tofu and shrimp paste</td>\n",
       "      <td>bun dau mam tom</td>\n",
       "      <td>NaN</td>\n",
       "      <td>3:32</td>\n",
       "      <td>6:10</td>\n",
       "      <td>...</td>\n",
       "      <td>fish sauce, fermented shrimp paste, pepper, ch...</td>\n",
       "      <td>street restaurant</td>\n",
       "      <td>tray</td>\n",
       "      <td>1.0</td>\n",
       "      <td>4.0</td>\n",
       "      <td>NaN</td>\n",
       "      <td>4.0</td>\n",
       "      <td>HN</td>\n",
       "      <td>1.0</td>\n",
       "      <td>NaN</td>\n",
       "    </tr>\n",
       "    <tr>\n",
       "      <th>2</th>\n",
       "      <td>3.0</td>\n",
       "      <td>51.0</td>\n",
       "      <td>NaN</td>\n",
       "      <td>NaN</td>\n",
       "      <td>5OzrpNCyXqs</td>\n",
       "      <td>fried spring roll</td>\n",
       "      <td>spring roll</td>\n",
       "      <td>NaN</td>\n",
       "      <td>5:23</td>\n",
       "      <td>6:10</td>\n",
       "      <td>...</td>\n",
       "      <td>fish sauce, sweet spicy garlic sauce</td>\n",
       "      <td>street restaurant</td>\n",
       "      <td>plate</td>\n",
       "      <td>0.0</td>\n",
       "      <td>5.0</td>\n",
       "      <td>NaN</td>\n",
       "      <td>5.0</td>\n",
       "      <td>HN</td>\n",
       "      <td>1.0</td>\n",
       "      <td>NaN</td>\n",
       "    </tr>\n",
       "    <tr>\n",
       "      <th>3</th>\n",
       "      <td>4.0</td>\n",
       "      <td>51.0</td>\n",
       "      <td>NaN</td>\n",
       "      <td>NaN</td>\n",
       "      <td>5OzrpNCyXqs</td>\n",
       "      <td>steamed rolled rice pancake</td>\n",
       "      <td>banh cuon</td>\n",
       "      <td>NaN</td>\n",
       "      <td>6:22</td>\n",
       "      <td>9:23</td>\n",
       "      <td>...</td>\n",
       "      <td>garlic water, fried caramelized scallion, pepp...</td>\n",
       "      <td>street restaurant</td>\n",
       "      <td>plate</td>\n",
       "      <td>1.0</td>\n",
       "      <td>5.0</td>\n",
       "      <td>NaN</td>\n",
       "      <td>5.0</td>\n",
       "      <td>HN</td>\n",
       "      <td>1.0</td>\n",
       "      <td>NaN</td>\n",
       "    </tr>\n",
       "    <tr>\n",
       "      <th>4</th>\n",
       "      <td>5.0</td>\n",
       "      <td>51.0</td>\n",
       "      <td>NaN</td>\n",
       "      <td>NaN</td>\n",
       "      <td>5OzrpNCyXqs</td>\n",
       "      <td>shrimp cake</td>\n",
       "      <td>shrimp cake</td>\n",
       "      <td>NaN</td>\n",
       "      <td>9:42</td>\n",
       "      <td>11:55</td>\n",
       "      <td>...</td>\n",
       "      <td>chili, sweet spicy sauce</td>\n",
       "      <td>street restaurant</td>\n",
       "      <td>plate</td>\n",
       "      <td>1.0</td>\n",
       "      <td>4.0</td>\n",
       "      <td>NaN</td>\n",
       "      <td>5.0</td>\n",
       "      <td>HN</td>\n",
       "      <td>1.0</td>\n",
       "      <td>NaN</td>\n",
       "    </tr>\n",
       "  </tbody>\n",
       "</table>\n",
       "<p>5 rows × 25 columns</p>\n",
       "</div>"
      ],
      "text/plain": [
       "     e  no. video Student ID Full name           id  \\\n",
       "0  1.0       51.0        NaN       NaN  5OzrpNCyXqs   \n",
       "1  2.0       51.0        NaN       NaN  5OzrpNCyXqs   \n",
       "2  3.0       51.0        NaN       NaN  5OzrpNCyXqs   \n",
       "3  4.0       51.0        NaN       NaN  5OzrpNCyXqs   \n",
       "4  5.0       51.0        NaN       NaN  5OzrpNCyXqs   \n",
       "\n",
       "                             standardized dish  \\\n",
       "0                        snail vermicelli soup   \n",
       "1  vermicelli with fried tofu and shrimp paste   \n",
       "2                            fried spring roll   \n",
       "3                  steamed rolled rice pancake   \n",
       "4                                  shrimp cake   \n",
       "\n",
       "        dish occurence (based on transcript) dish imply start time end time  \\\n",
       "0                                     bun oc        NaN       1:05     3:21   \n",
       "1                            bun dau mam tom        NaN       3:32     6:10   \n",
       "2                                spring roll        NaN       5:23     6:10   \n",
       "3                                  banh cuon        NaN       6:22     9:23   \n",
       "4                                shrimp cake        NaN       9:42    11:55   \n",
       "\n",
       "   ...                        sauce (based on transcript)              venue  \\\n",
       "0  ...                                                NaN  street restaurant   \n",
       "1  ...  fish sauce, fermented shrimp paste, pepper, ch...  street restaurant   \n",
       "2  ...               fish sauce, sweet spicy garlic sauce  street restaurant   \n",
       "3  ...  garlic water, fried caramelized scallion, pepp...  street restaurant   \n",
       "4  ...                           chili, sweet spicy sauce  street restaurant   \n",
       "\n",
       "  container describe how to make it viewer feeling of youtuber's style   \\\n",
       "0      bowl                     1.0                                 4.0   \n",
       "1      tray                     1.0                                 4.0   \n",
       "2     plate                     0.0                                 5.0   \n",
       "3     plate                     1.0                                 5.0   \n",
       "4     plate                     1.0                                 4.0   \n",
       "\n",
       "  viewer feeling of presented food YouTuber feeling location foreigner  \\\n",
       "0                              NaN              5.0       HN       1.0   \n",
       "1                              NaN              4.0       HN       1.0   \n",
       "2                              NaN              5.0       HN       1.0   \n",
       "3                              NaN              5.0       HN       1.0   \n",
       "4                              NaN              5.0       HN       1.0   \n",
       "\n",
       "  Unnamed: 24  \n",
       "0         NaN  \n",
       "1         NaN  \n",
       "2         NaN  \n",
       "3         NaN  \n",
       "4         NaN  \n",
       "\n",
       "[5 rows x 25 columns]"
      ]
     },
     "execution_count": 119,
     "metadata": {},
     "output_type": "execute_result"
    }
   ],
   "source": [
    "#a/ Load the data set\n",
    "df = pd.read_excel(\"Data_AIL.xlsx\")\n",
    "df.head()"
   ]
  },
  {
   "cell_type": "code",
   "execution_count": 120,
   "metadata": {},
   "outputs": [
    {
     "name": "stdout",
     "output_type": "stream",
     "text": [
      "(3850, 25)\n"
     ]
    }
   ],
   "source": [
    "print(df.shape)"
   ]
  },
  {
   "cell_type": "code",
   "execution_count": 121,
   "metadata": {},
   "outputs": [],
   "source": [
    "#b/ Select features\n",
    "data = df[[\"start time\",\"end time\",\"Unnamed: 11\",\"viewer feeling of youtuber's style \"]]"
   ]
  },
  {
   "cell_type": "code",
   "execution_count": 122,
   "metadata": {},
   "outputs": [
    {
     "data": {
      "text/html": [
       "<div>\n",
       "<style scoped>\n",
       "    .dataframe tbody tr th:only-of-type {\n",
       "        vertical-align: middle;\n",
       "    }\n",
       "\n",
       "    .dataframe tbody tr th {\n",
       "        vertical-align: top;\n",
       "    }\n",
       "\n",
       "    .dataframe thead th {\n",
       "        text-align: right;\n",
       "    }\n",
       "</style>\n",
       "<table border=\"1\" class=\"dataframe\">\n",
       "  <thead>\n",
       "    <tr style=\"text-align: right;\">\n",
       "      <th></th>\n",
       "      <th>start time</th>\n",
       "      <th>end time</th>\n",
       "      <th>Unnamed: 11</th>\n",
       "      <th>viewer feeling of youtuber's style</th>\n",
       "    </tr>\n",
       "  </thead>\n",
       "  <tbody>\n",
       "    <tr>\n",
       "      <th>0</th>\n",
       "      <td>1:05</td>\n",
       "      <td>3:21</td>\n",
       "      <td>9</td>\n",
       "      <td>4.0</td>\n",
       "    </tr>\n",
       "    <tr>\n",
       "      <th>1</th>\n",
       "      <td>3:32</td>\n",
       "      <td>6:10</td>\n",
       "      <td>11</td>\n",
       "      <td>4.0</td>\n",
       "    </tr>\n",
       "    <tr>\n",
       "      <th>2</th>\n",
       "      <td>5:23</td>\n",
       "      <td>6:10</td>\n",
       "      <td>4</td>\n",
       "      <td>5.0</td>\n",
       "    </tr>\n",
       "    <tr>\n",
       "      <th>3</th>\n",
       "      <td>6:22</td>\n",
       "      <td>9:23</td>\n",
       "      <td>5</td>\n",
       "      <td>5.0</td>\n",
       "    </tr>\n",
       "    <tr>\n",
       "      <th>4</th>\n",
       "      <td>9:42</td>\n",
       "      <td>11:55</td>\n",
       "      <td>4</td>\n",
       "      <td>4.0</td>\n",
       "    </tr>\n",
       "  </tbody>\n",
       "</table>\n",
       "</div>"
      ],
      "text/plain": [
       "  start time end time  Unnamed: 11 viewer feeling of youtuber's style \n",
       "0       1:05     3:21            9                                 4.0\n",
       "1       3:32     6:10           11                                 4.0\n",
       "2       5:23     6:10            4                                 5.0\n",
       "3       6:22     9:23            5                                 5.0\n",
       "4       9:42    11:55            4                                 4.0"
      ]
     },
     "execution_count": 122,
     "metadata": {},
     "output_type": "execute_result"
    }
   ],
   "source": [
    "data.head()"
   ]
  },
  {
   "cell_type": "code",
   "execution_count": 123,
   "metadata": {},
   "outputs": [
    {
     "data": {
      "text/html": [
       "<div>\n",
       "<style scoped>\n",
       "    .dataframe tbody tr th:only-of-type {\n",
       "        vertical-align: middle;\n",
       "    }\n",
       "\n",
       "    .dataframe tbody tr th {\n",
       "        vertical-align: top;\n",
       "    }\n",
       "\n",
       "    .dataframe thead th {\n",
       "        text-align: right;\n",
       "    }\n",
       "</style>\n",
       "<table border=\"1\" class=\"dataframe\">\n",
       "  <thead>\n",
       "    <tr style=\"text-align: right;\">\n",
       "      <th></th>\n",
       "      <th>Unnamed: 11</th>\n",
       "    </tr>\n",
       "  </thead>\n",
       "  <tbody>\n",
       "    <tr>\n",
       "      <th>count</th>\n",
       "      <td>3771.000000</td>\n",
       "    </tr>\n",
       "    <tr>\n",
       "      <th>mean</th>\n",
       "      <td>3.279236</td>\n",
       "    </tr>\n",
       "    <tr>\n",
       "      <th>std</th>\n",
       "      <td>2.804457</td>\n",
       "    </tr>\n",
       "    <tr>\n",
       "      <th>min</th>\n",
       "      <td>0.000000</td>\n",
       "    </tr>\n",
       "    <tr>\n",
       "      <th>25%</th>\n",
       "      <td>1.000000</td>\n",
       "    </tr>\n",
       "    <tr>\n",
       "      <th>50%</th>\n",
       "      <td>3.000000</td>\n",
       "    </tr>\n",
       "    <tr>\n",
       "      <th>75%</th>\n",
       "      <td>5.000000</td>\n",
       "    </tr>\n",
       "    <tr>\n",
       "      <th>max</th>\n",
       "      <td>20.000000</td>\n",
       "    </tr>\n",
       "  </tbody>\n",
       "</table>\n",
       "</div>"
      ],
      "text/plain": [
       "       Unnamed: 11\n",
       "count  3771.000000\n",
       "mean      3.279236\n",
       "std       2.804457\n",
       "min       0.000000\n",
       "25%       1.000000\n",
       "50%       3.000000\n",
       "75%       5.000000\n",
       "max      20.000000"
      ]
     },
     "execution_count": 123,
     "metadata": {},
     "output_type": "execute_result"
    }
   ],
   "source": [
    "data= data.dropna(axis= 0)\n",
    "data.describe()"
   ]
  },
  {
   "cell_type": "code",
   "execution_count": 124,
   "metadata": {},
   "outputs": [],
   "source": [
    "# convert start time and end time to seconds\n",
    "import re\n",
    "def __check_value_time(hours=0, minutes=0, seconds=0):\n",
    "    # print('Time out: 'hours, minutes, seconds)\n",
    "    if hours > 24:\n",
    "        print('Time error: ',hours, minutes, seconds)\n",
    "        raise ValueError('Hour is out of range')\n",
    "\n",
    "    if seconds > 60:\n",
    "        print('Time error: ',hours, minutes, seconds)\n",
    "        raise ValueError('Second is out of range')\n",
    "\n",
    "    if minutes > 60:\n",
    "        print('Time error: ',hours, minutes, seconds)\n",
    "        raise ValueError('Minutes is out of range')\n",
    "\n",
    "def process_time_str(time_str):\n",
    "    time_data = re.findall('[0-9]?[0-9]', time_str)\n",
    "    TIME_WITH_HOUR = 3\n",
    "    TIME_WITH_MINUTES = 2\n",
    "    TIME_WITH_SECONDS = 1\n",
    "    MAX_SECONDS = 90060\n",
    "    # print(time_data)\n",
    "    if len(time_data) == TIME_WITH_HOUR:\n",
    "        hours = int(time_data[0])\n",
    "        minutes = int(time_data[1])\n",
    "        seconds = int(time_data[2])\n",
    "\n",
    "        __check_value_time(hours, seconds, minutes)\n",
    "\n",
    "        return (hours*3600 + minutes*60 + seconds)\n",
    "    if len(time_data) == TIME_WITH_MINUTES:\n",
    "        minutes = int(time_data[0])\n",
    "        seconds = int(time_data[1])\n",
    "\n",
    "        __check_value_time(minutes=minutes, seconds=seconds)\n",
    "\n",
    "        return (minutes*60 + seconds)\n",
    "    if len(time_data) == TIME_WITH_SECONDS:\n",
    "        seconds = int(time_data[0])\n",
    "\n",
    "        __check_value_time(seconds=seconds)\n",
    "\n",
    "        return seconds"
   ]
  },
  {
   "cell_type": "code",
   "execution_count": 125,
   "metadata": {},
   "outputs": [],
   "source": [
    "index_data = list()\n",
    "for str_time in data['start time']:\n",
    "    if str_time[0].isdigit() and str_time[-1].isdigit():\n",
    "        index_data.append(True)\n",
    "    else:\n",
    "        index_data.append(False)\n",
    "\n",
    "data = data[index_data]\n",
    "\n",
    "index_data = list()\n",
    "for str_time in data['end time']:\n",
    "    if str_time[0].isdigit() and str_time[-1].isdigit():\n",
    "        index_data.append(True)\n",
    "    else:\n",
    "        index_data.append(False)\n",
    "data = data[index_data]\n",
    "df_time = list()\n",
    "\n",
    "for start_time, end_time in zip(data['start time'], data['end time']):\n",
    "    df_time.append((process_time_str(start_time), process_time_str(end_time)))\n",
    "\n",
    "data[['start time', 'end time']] = df_time\n",
    "data[\"viewer feeling of youtuber's style \"] = data[\"viewer feeling of youtuber's style \"].astype('int')\n"
   ]
  },
  {
   "cell_type": "code",
   "execution_count": 126,
   "metadata": {},
   "outputs": [],
   "source": [
    "data['duration'] = data['end time']- data['start time']"
   ]
  },
  {
   "cell_type": "code",
   "execution_count": 127,
   "metadata": {},
   "outputs": [
    {
     "data": {
      "text/html": [
       "<div>\n",
       "<style scoped>\n",
       "    .dataframe tbody tr th:only-of-type {\n",
       "        vertical-align: middle;\n",
       "    }\n",
       "\n",
       "    .dataframe tbody tr th {\n",
       "        vertical-align: top;\n",
       "    }\n",
       "\n",
       "    .dataframe thead th {\n",
       "        text-align: right;\n",
       "    }\n",
       "</style>\n",
       "<table border=\"1\" class=\"dataframe\">\n",
       "  <thead>\n",
       "    <tr style=\"text-align: right;\">\n",
       "      <th></th>\n",
       "      <th>start time</th>\n",
       "      <th>end time</th>\n",
       "      <th>Unnamed: 11</th>\n",
       "      <th>viewer feeling of youtuber's style</th>\n",
       "      <th>duration</th>\n",
       "    </tr>\n",
       "  </thead>\n",
       "  <tbody>\n",
       "    <tr>\n",
       "      <th>0</th>\n",
       "      <td>65</td>\n",
       "      <td>201</td>\n",
       "      <td>9</td>\n",
       "      <td>4</td>\n",
       "      <td>136</td>\n",
       "    </tr>\n",
       "    <tr>\n",
       "      <th>1</th>\n",
       "      <td>212</td>\n",
       "      <td>370</td>\n",
       "      <td>11</td>\n",
       "      <td>4</td>\n",
       "      <td>158</td>\n",
       "    </tr>\n",
       "    <tr>\n",
       "      <th>2</th>\n",
       "      <td>323</td>\n",
       "      <td>370</td>\n",
       "      <td>4</td>\n",
       "      <td>5</td>\n",
       "      <td>47</td>\n",
       "    </tr>\n",
       "    <tr>\n",
       "      <th>3</th>\n",
       "      <td>382</td>\n",
       "      <td>563</td>\n",
       "      <td>5</td>\n",
       "      <td>5</td>\n",
       "      <td>181</td>\n",
       "    </tr>\n",
       "    <tr>\n",
       "      <th>4</th>\n",
       "      <td>582</td>\n",
       "      <td>715</td>\n",
       "      <td>4</td>\n",
       "      <td>4</td>\n",
       "      <td>133</td>\n",
       "    </tr>\n",
       "  </tbody>\n",
       "</table>\n",
       "</div>"
      ],
      "text/plain": [
       "   start time  end time  Unnamed: 11  viewer feeling of youtuber's style   \\\n",
       "0          65       201            9                                    4   \n",
       "1         212       370           11                                    4   \n",
       "2         323       370            4                                    5   \n",
       "3         382       563            5                                    5   \n",
       "4         582       715            4                                    4   \n",
       "\n",
       "   duration  \n",
       "0       136  \n",
       "1       158  \n",
       "2        47  \n",
       "3       181  \n",
       "4       133  "
      ]
     },
     "execution_count": 127,
     "metadata": {},
     "output_type": "execute_result"
    }
   ],
   "source": [
    "data= data.loc[data['duration']>=0]\n",
    "data.head()"
   ]
  },
  {
   "cell_type": "markdown",
   "metadata": {},
   "source": []
  },
  {
   "cell_type": "code",
   "execution_count": 128,
   "metadata": {},
   "outputs": [
    {
     "data": {
      "text/plain": [
       "<AxesSubplot:>"
      ]
     },
     "execution_count": 128,
     "metadata": {},
     "output_type": "execute_result"
    },
    {
     "data": {
      "image/png": "[encoded data removed]",
      "text/plain": [
       "<Figure size 1728x1152 with 2 Axes>"
      ]
     },
     "metadata": {
      "needs_background": "light"
     },
     "output_type": "display_data"
    }
   ],
   "source": [
    "plt.figure(figsize = (24,16))\n",
    "sns.heatmap(pd.concat([data[['duration', 'Unnamed: 11']],data[\"viewer feeling of youtuber's style \"]], axis=1).corr(), annot=True, cmap=\"coolwarm\")"
   ]
  },
  {
   "cell_type": "code",
   "execution_count": 129,
   "metadata": {},
   "outputs": [],
   "source": [
    "# Normalization\n",
    "data['duration'] = (data['duration']-data['duration'].mean())/(data['duration'].max()- data['duration'].min())\n",
    "data['Unnamed: 11'] = (data['Unnamed: 11']-data['Unnamed: 11'].mean())/(data['Unnamed: 11'].max() - data['Unnamed: 11'].min())\n",
    "\n",
    "# Phân loại \n",
    "input_data = data[['duration', 'Unnamed: 11']]\n",
    "output_data = data[\"viewer feeling of youtuber's style \"]"
   ]
  },
  {
   "cell_type": "code",
   "execution_count": 130,
   "metadata": {},
   "outputs": [
    {
     "name": "stdout",
     "output_type": "stream",
     "text": [
      "[[ 0.02594914  0.28548474]\n",
      " [ 0.0391862   0.38548474]\n",
      " [-0.0276008   0.03548474]\n",
      " ...\n",
      " [ 0.05844011 -0.01451526]\n",
      " [ 0.14087092  0.03548474]\n",
      " [ 0.2401489   0.03548474]] [4 4 5 ... 4 4 3]\n"
     ]
    }
   ],
   "source": [
    "#convert to numpy\n",
    "x=input_data.to_numpy()\n",
    "y=output_data.to_numpy()\n",
    "print(x,y)\n"
   ]
  },
  {
   "cell_type": "code",
   "execution_count": 131,
   "metadata": {},
   "outputs": [],
   "source": [
    "\n",
    "#c/ Split it into two parts: 70% of which you will use to train your model and the remaining data will be used to test the model.\n",
    "\n",
    "from sklearn.model_selection import train_test_split\n",
    "x_train,x_test,y_train,y_test = train_test_split(x,y,test_size= 0.3,random_state=0)"
   ]
  },
  {
   "cell_type": "code",
   "execution_count": 132,
   "metadata": {},
   "outputs": [
    {
     "name": "stdout",
     "output_type": "stream",
     "text": [
      "(2592, 2)\n",
      "(1111, 2)\n"
     ]
    }
   ],
   "source": [
    "print(x_train.shape)\n",
    "print(x_test.shape)"
   ]
  },
  {
   "cell_type": "markdown",
   "metadata": {},
   "source": [
    "3. BUILD MODEL"
   ]
  },
  {
   "cell_type": "code",
   "execution_count": 133,
   "metadata": {},
   "outputs": [],
   "source": [
    "#m = number of samples, n= number of features\n",
    "m,n = x_train.shape"
   ]
  },
  {
   "cell_type": "code",
   "execution_count": 134,
   "metadata": {},
   "outputs": [],
   "source": [
    "#add collumn 1 in x\n",
    "x_train0 = np.hstack((np.ones((x_train.shape[0],1)),x_train))\n",
    "x_test0 = np.hstack((np.ones((x_test.shape[0],1)),x_test))"
   ]
  },
  {
   "cell_type": "code",
   "execution_count": 135,
   "metadata": {},
   "outputs": [],
   "source": [
    "#y_train = y_train.reshape(-1,1)\n",
    "#y_test = y_test.reshape(-1,1)"
   ]
  },
  {
   "cell_type": "markdown",
   "metadata": {},
   "source": [
    "Setup our neural network"
   ]
  },
  {
   "cell_type": "code",
   "execution_count": 136,
   "metadata": {},
   "outputs": [],
   "source": [
    "#we set up for neural network have only 3 layer: input 1, hidden 1, output 1\n",
    "input_layer_size = n                      # Dimension of features\n",
    "hidden_layer_size = input_layer_size*2    # of units in hidden layer\n",
    "output_layer_size = 5    # number of labels\n"
   ]
  },
  {
   "cell_type": "markdown",
   "metadata": {},
   "source": [
    "INITIALIZE WEIGHT"
   ]
  },
  {
   "cell_type": "markdown",
   "metadata": {},
   "source": [
    "Now, we can initialise our weights to random small values (remember these are also called theta’s). For gradient descent, its OK to initalise to zero's, but for neural networks, it works out better if we initialise our weights to some random values. Here we develop a handy function to perform the initialization."
   ]
  },
  {
   "cell_type": "code",
   "execution_count": 137,
   "metadata": {},
   "outputs": [],
   "source": [
    "def initializeWeights(L_in, L_out):\n",
    "    epsilon_init = 0.12\n",
    "    W = np.random.rand(L_out, 1 + L_in) * 2 * epsilon_init - epsilon_init\n",
    "    return W"
   ]
  },
  {
   "cell_type": "code",
   "execution_count": 138,
   "metadata": {},
   "outputs": [],
   "source": [
    "initial_Theta1 = initializeWeights(input_layer_size, hidden_layer_size)\n",
    "initial_Theta2 = initializeWeights(hidden_layer_size, output_layer_size)\n",
    "nn_params = np.concatenate((initial_Theta1.flatten(), initial_Theta2.flatten()), axis=None)"
   ]
  },
  {
   "cell_type": "code",
   "execution_count": 139,
   "metadata": {},
   "outputs": [
    {
     "name": "stdout",
     "output_type": "stream",
     "text": [
      "Checking Backpropagation... \n",
      "[[ 0.01231622  0.01231622]\n",
      " [ 0.01835978  0.01835978]\n",
      " [ 0.00308386  0.00308386]\n",
      " [-0.01502735 -0.01502735]\n",
      " [ 0.00392471  0.00392471]\n",
      " [-0.00539821 -0.00539821]\n",
      " [ 0.013362    0.013362  ]\n",
      " [ 0.01983725  0.01983725]\n",
      " [-0.00808459 -0.00808459]\n",
      " [-0.01084911 -0.01084911]\n",
      " [-0.02002159 -0.02002159]\n",
      " [-0.01078632 -0.01078632]\n",
      " [-0.01266691 -0.01266691]\n",
      " [ 0.01965602  0.01965602]\n",
      " [ 0.01276025  0.01276025]\n",
      " [-0.00586723 -0.00586723]\n",
      " [-0.00559343 -0.00559343]\n",
      " [-0.01521978 -0.01521978]\n",
      " [ 0.00275391  0.00275391]\n",
      " [ 0.01819567  0.01819567]\n",
      " [ 0.30934772  0.30934772]\n",
      " [ 0.17925309  0.17925309]\n",
      " [ 0.14985892  0.14985892]\n",
      " [ 0.14313253  0.14313253]\n",
      " [ 0.13843822  0.13843822]\n",
      " [ 0.14164805  0.14164805]\n",
      " [ 0.108133    0.108133  ]\n",
      " [ 0.07595054  0.07595054]\n",
      " [ 0.06019342  0.06019342]\n",
      " [ 0.04385492  0.04385492]\n",
      " [ 0.03530847  0.03530847]\n",
      " [ 0.0410438   0.0410438 ]\n",
      " [ 0.10627037  0.10627037]\n",
      " [ 0.07557325  0.07557325]\n",
      " [ 0.06356257  0.06356257]\n",
      " [ 0.04812245  0.04812245]\n",
      " [ 0.03551277  0.03551277]\n",
      " [ 0.03527321  0.03527321]]\n",
      "The above two columns you get should be very similar.\n",
      "(Left-Your Numerical Gradient, Right-Analytical Gradient)\n",
      "\n",
      "If your backpropagation implementation is correct, then \n",
      "the relative difference will be small (less than 1e-9). \n",
      "\n",
      "Relative Difference : 2.15295e-11\n"
     ]
    }
   ],
   "source": [
    "\n",
    "from checknn import *\n",
    "\n",
    "print('Checking Backpropagation... ')\n",
    "# Weight regularization parameter (we set this to 1 here).\n",
    "lambda_ = 1\n",
    "#  Check gradients by running checkNNGradients\n",
    "checkNNGradients(lambda_)"
   ]
  },
  {
   "cell_type": "code",
   "execution_count": 140,
   "metadata": {},
   "outputs": [
    {
     "name": "stdout",
     "output_type": "stream",
     "text": [
      "Checking Cost Function (w/ Regularization) ... \n",
      "Cost at parameters (loaded from ex4weights): 3.513852 \n",
      "(this value should be about 1.776110)\n"
     ]
    },
    {
     "data": {
      "text/plain": [
       "array([ 1.31298648e-02,  1.19954627e-04,  2.35352297e-04,  1.66494528e-02,\n",
       "        3.60836265e-05,  1.84485396e-04,  6.46984318e-03, -5.05530860e-05,\n",
       "       -1.11129914e-04, -2.46804917e-02,  8.47545423e-05,  1.53154205e-04,\n",
       "        4.92666050e-01,  2.53173146e-01,  2.32303702e-01,  2.42465308e-01,\n",
       "        2.39530939e-01,  4.53930227e-01,  2.33292920e-01,  2.14060147e-01,\n",
       "        2.23337556e-01,  2.20677989e-01,  2.06805933e-01,  1.06512326e-01,\n",
       "        9.78123365e-02,  1.01767312e-01,  1.00385870e-01,  1.23848409e-01,\n",
       "        6.35502142e-02,  5.82403286e-02,  6.09209253e-02,  6.03348054e-02,\n",
       "        2.64653027e-01,  1.35645164e-01,  1.24480314e-01,  1.30277487e-01,\n",
       "        1.28845683e-01])"
      ]
     },
     "execution_count": 140,
     "metadata": {},
     "output_type": "execute_result"
    }
   ],
   "source": [
    "from checknn import *\n",
    "\n",
    "print('Checking Cost Function (w/ Regularization) ... ')\n",
    "J, g = nnCostFunction2(nn_params, input_layer_size, hidden_layer_size, output_layer_size, x_train, y_train, lambda_)\n",
    "\n",
    "print(f'Cost at parameters (loaded from ex4weights): {J:f} \\n(this value should be about 1.776110)')\n",
    "g"
   ]
  },
  {
   "cell_type": "code",
   "execution_count": 141,
   "metadata": {},
   "outputs": [
    {
     "name": "stdout",
     "output_type": "stream",
     "text": [
      "Training Neural Network... \n",
      "Warning: Maximum number of iterations has been exceeded.\n",
      "         Current function value: 2.083498\n",
      "         Iterations: 50\n",
      "         Function evaluations: 115\n",
      "         Gradient evaluations: 115\n",
      "Maximum number of iterations has been exceeded.\n"
     ]
    }
   ],
   "source": [
    "print('Training Neural Network... ')\n",
    "\n",
    "#  Change the MaxIter to a larger value to see how more training helps.\n",
    "options = {'maxiter': 50, 'disp': True}\n",
    "\n",
    "#  You should also try different values of lambda\n",
    "lambda_ = 1\n",
    "\n",
    "# Create \"short hand\" for the cost function to be minimized\n",
    "fun = lambda nn_params: nnCostFunction2(nn_params, input_layer_size, hidden_layer_size, output_layer_size, x_train, y_train, lambda_)[0]\n",
    "jac = lambda nn_params: nnCostFunction2(nn_params, input_layer_size, hidden_layer_size, output_layer_size, x_train, y_train, lambda_)[1]\n",
    "\n",
    "# Now, costFunction is a function that takes in only one argument (the neural network parameters)\n",
    "from scipy import optimize as opt\n",
    "res = opt.minimize(fun, nn_params, method='CG', jac=jac, options=options)\n",
    "nn_params = res.x\n",
    "cost = res.fun\n",
    "\n",
    "print(res.message)"
   ]
  },
  {
   "cell_type": "code",
   "execution_count": 142,
   "metadata": {},
   "outputs": [
    {
     "name": "stdout",
     "output_type": "stream",
     "text": [
      "2.0834979937411484\n"
     ]
    }
   ],
   "source": [
    "# Obtain Theta1 and Theta2 back from nn_params\n",
    "Theta1 = nn_params[:hidden_layer_size * (input_layer_size + 1)].reshape((hidden_layer_size, input_layer_size + 1))\n",
    "Theta2 = nn_params[hidden_layer_size * (input_layer_size + 1):].reshape((output_layer_size, hidden_layer_size + 1))\n",
    "\n",
    "print(cost)"
   ]
  },
  {
   "cell_type": "code",
   "execution_count": 143,
   "metadata": {},
   "outputs": [
    {
     "name": "stdout",
     "output_type": "stream",
     "text": [
      "(1111,) (1111,)\n"
     ]
    }
   ],
   "source": [
    "y_predict = predict(Theta1, Theta2, x_test)\n",
    "print(y_predict.shape,y_test.shape)"
   ]
  },
  {
   "cell_type": "code",
   "execution_count": 150,
   "metadata": {},
   "outputs": [
    {
     "name": "stdout",
     "output_type": "stream",
     "text": [
      "Training Set Accuracy: 41.584158\n"
     ]
    }
   ],
   "source": [
    "print(f'Training Set Accuracy: {(y_predict == y_test).mean() * 100:f}')"
   ]
  },
  {
   "cell_type": "code",
   "execution_count": 144,
   "metadata": {},
   "outputs": [
    {
     "data": {
      "text/html": [
       "<div>\n",
       "<style scoped>\n",
       "    .dataframe tbody tr th:only-of-type {\n",
       "        vertical-align: middle;\n",
       "    }\n",
       "\n",
       "    .dataframe tbody tr th {\n",
       "        vertical-align: top;\n",
       "    }\n",
       "\n",
       "    .dataframe thead th {\n",
       "        text-align: right;\n",
       "    }\n",
       "</style>\n",
       "<table border=\"1\" class=\"dataframe\">\n",
       "  <thead>\n",
       "    <tr style=\"text-align: right;\">\n",
       "      <th></th>\n",
       "      <th>Actual Value</th>\n",
       "      <th>Predicted Value</th>\n",
       "      <th>Difference</th>\n",
       "    </tr>\n",
       "  </thead>\n",
       "  <tbody>\n",
       "    <tr>\n",
       "      <th>0</th>\n",
       "      <td>5</td>\n",
       "      <td>4</td>\n",
       "      <td>1</td>\n",
       "    </tr>\n",
       "    <tr>\n",
       "      <th>1</th>\n",
       "      <td>5</td>\n",
       "      <td>3</td>\n",
       "      <td>2</td>\n",
       "    </tr>\n",
       "    <tr>\n",
       "      <th>2</th>\n",
       "      <td>3</td>\n",
       "      <td>4</td>\n",
       "      <td>-1</td>\n",
       "    </tr>\n",
       "    <tr>\n",
       "      <th>3</th>\n",
       "      <td>5</td>\n",
       "      <td>3</td>\n",
       "      <td>2</td>\n",
       "    </tr>\n",
       "    <tr>\n",
       "      <th>4</th>\n",
       "      <td>5</td>\n",
       "      <td>4</td>\n",
       "      <td>1</td>\n",
       "    </tr>\n",
       "    <tr>\n",
       "      <th>5</th>\n",
       "      <td>3</td>\n",
       "      <td>3</td>\n",
       "      <td>0</td>\n",
       "    </tr>\n",
       "    <tr>\n",
       "      <th>6</th>\n",
       "      <td>4</td>\n",
       "      <td>3</td>\n",
       "      <td>1</td>\n",
       "    </tr>\n",
       "    <tr>\n",
       "      <th>7</th>\n",
       "      <td>4</td>\n",
       "      <td>3</td>\n",
       "      <td>1</td>\n",
       "    </tr>\n",
       "    <tr>\n",
       "      <th>8</th>\n",
       "      <td>4</td>\n",
       "      <td>4</td>\n",
       "      <td>0</td>\n",
       "    </tr>\n",
       "    <tr>\n",
       "      <th>9</th>\n",
       "      <td>5</td>\n",
       "      <td>4</td>\n",
       "      <td>1</td>\n",
       "    </tr>\n",
       "    <tr>\n",
       "      <th>10</th>\n",
       "      <td>5</td>\n",
       "      <td>4</td>\n",
       "      <td>1</td>\n",
       "    </tr>\n",
       "    <tr>\n",
       "      <th>11</th>\n",
       "      <td>3</td>\n",
       "      <td>4</td>\n",
       "      <td>-1</td>\n",
       "    </tr>\n",
       "    <tr>\n",
       "      <th>12</th>\n",
       "      <td>4</td>\n",
       "      <td>4</td>\n",
       "      <td>0</td>\n",
       "    </tr>\n",
       "    <tr>\n",
       "      <th>13</th>\n",
       "      <td>4</td>\n",
       "      <td>4</td>\n",
       "      <td>0</td>\n",
       "    </tr>\n",
       "    <tr>\n",
       "      <th>14</th>\n",
       "      <td>4</td>\n",
       "      <td>4</td>\n",
       "      <td>0</td>\n",
       "    </tr>\n",
       "    <tr>\n",
       "      <th>15</th>\n",
       "      <td>4</td>\n",
       "      <td>4</td>\n",
       "      <td>0</td>\n",
       "    </tr>\n",
       "    <tr>\n",
       "      <th>16</th>\n",
       "      <td>3</td>\n",
       "      <td>4</td>\n",
       "      <td>-1</td>\n",
       "    </tr>\n",
       "    <tr>\n",
       "      <th>17</th>\n",
       "      <td>3</td>\n",
       "      <td>3</td>\n",
       "      <td>0</td>\n",
       "    </tr>\n",
       "    <tr>\n",
       "      <th>18</th>\n",
       "      <td>5</td>\n",
       "      <td>4</td>\n",
       "      <td>1</td>\n",
       "    </tr>\n",
       "    <tr>\n",
       "      <th>19</th>\n",
       "      <td>5</td>\n",
       "      <td>4</td>\n",
       "      <td>1</td>\n",
       "    </tr>\n",
       "    <tr>\n",
       "      <th>20</th>\n",
       "      <td>4</td>\n",
       "      <td>3</td>\n",
       "      <td>1</td>\n",
       "    </tr>\n",
       "    <tr>\n",
       "      <th>21</th>\n",
       "      <td>3</td>\n",
       "      <td>3</td>\n",
       "      <td>0</td>\n",
       "    </tr>\n",
       "    <tr>\n",
       "      <th>22</th>\n",
       "      <td>4</td>\n",
       "      <td>3</td>\n",
       "      <td>1</td>\n",
       "    </tr>\n",
       "    <tr>\n",
       "      <th>23</th>\n",
       "      <td>4</td>\n",
       "      <td>4</td>\n",
       "      <td>0</td>\n",
       "    </tr>\n",
       "    <tr>\n",
       "      <th>24</th>\n",
       "      <td>4</td>\n",
       "      <td>4</td>\n",
       "      <td>0</td>\n",
       "    </tr>\n",
       "    <tr>\n",
       "      <th>25</th>\n",
       "      <td>3</td>\n",
       "      <td>3</td>\n",
       "      <td>0</td>\n",
       "    </tr>\n",
       "    <tr>\n",
       "      <th>26</th>\n",
       "      <td>3</td>\n",
       "      <td>4</td>\n",
       "      <td>-1</td>\n",
       "    </tr>\n",
       "    <tr>\n",
       "      <th>27</th>\n",
       "      <td>5</td>\n",
       "      <td>3</td>\n",
       "      <td>2</td>\n",
       "    </tr>\n",
       "    <tr>\n",
       "      <th>28</th>\n",
       "      <td>4</td>\n",
       "      <td>4</td>\n",
       "      <td>0</td>\n",
       "    </tr>\n",
       "    <tr>\n",
       "      <th>29</th>\n",
       "      <td>3</td>\n",
       "      <td>3</td>\n",
       "      <td>0</td>\n",
       "    </tr>\n",
       "  </tbody>\n",
       "</table>\n",
       "</div>"
      ],
      "text/plain": [
       "    Actual Value  Predicted Value  Difference\n",
       "0              5                4           1\n",
       "1              5                3           2\n",
       "2              3                4          -1\n",
       "3              5                3           2\n",
       "4              5                4           1\n",
       "5              3                3           0\n",
       "6              4                3           1\n",
       "7              4                3           1\n",
       "8              4                4           0\n",
       "9              5                4           1\n",
       "10             5                4           1\n",
       "11             3                4          -1\n",
       "12             4                4           0\n",
       "13             4                4           0\n",
       "14             4                4           0\n",
       "15             4                4           0\n",
       "16             3                4          -1\n",
       "17             3                3           0\n",
       "18             5                4           1\n",
       "19             5                4           1\n",
       "20             4                3           1\n",
       "21             3                3           0\n",
       "22             4                3           1\n",
       "23             4                4           0\n",
       "24             4                4           0\n",
       "25             3                3           0\n",
       "26             3                4          -1\n",
       "27             5                3           2\n",
       "28             4                4           0\n",
       "29             3                3           0"
      ]
     },
     "execution_count": 144,
     "metadata": {},
     "output_type": "execute_result"
    }
   ],
   "source": [
    "#compare\n",
    "result = pd.DataFrame({'Actual Value':y_test.reshape(y_test.shape[0],),'Predicted Value':y_predict.reshape(y_predict.shape[0],),\"Difference\": (y_test - y_predict).reshape(y_test.shape[0])})\n",
    "result[0:30]"
   ]
  }
 ],
 "metadata": {
  "kernelspec": {
   "display_name": "Python 3.9.7 64-bit",
   "language": "python",
   "name": "python3"
  },
  "language_info": {
   "codemirror_mode": {
    "name": "ipython",
    "version": 3
   },
   "file_extension": ".py",
   "mimetype": "text/x-python",
   "name": "python",
   "nbconvert_exporter": "python",
   "pygments_lexer": "ipython3",
   "version": "3.9.7"
  },
  "orig_nbformat": 4,
  "vscode": {
   "interpreter": {
    "hash": "0d591c6e422414675974e227c13f5382000c440fedd3c5006ef2be5d887f0ba7"
   }
  }
 },
 "nbformat": 4,
 "nbformat_minor": 2
}
